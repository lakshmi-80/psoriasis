{
  "cells": [
    {
      "cell_type": "code",
      "execution_count": 25,
      "metadata": {
        "id": "3NPBL4u_gCpT"
      },
      "outputs": [],
      "source": [
        "from tensorflow.keras.layers import Input, Lambda, Dense, Flatten, Dropout, GlobalAveragePooling2D\n",
        "from tensorflow.keras.models import Model\n",
        "from sklearn.metrics import confusion_matrix\n",
        "from sklearn.metrics import classification_report\n",
        "from tensorflow.keras.applications.resnet_v2 import ResNet50V2, ResNet101V2, ResNet152V2\n",
        "from tensorflow.keras.preprocessing import image\n",
        "from tensorflow.keras.preprocessing.image import ImageDataGenerator\n",
        "from tensorflow.keras.models import load_model\n",
        "from sklearn.metrics import accuracy_score\n",
        "from tensorflow.keras import optimizers\n",
        "from glob import glob\n",
        "import seaborn as sns\n",
        "from tensorflow.keras import regularizers\n",
        "import numpy as np\n",
        "import matplotlib.pyplot as plt\n",
        "from datetime import datetime\n",
        "from tensorflow.keras.callbacks import ModelCheckpoint\n",
        "from google.colab import drive"
      ]
    },
    {
      "cell_type": "code",
      "execution_count": 26,
      "metadata": {
        "id": "Jt9TBkjGg6zE",
        "colab": {
          "base_uri": "https://localhost:8080/"
        },
        "outputId": "da221fe0-4410-4576-e08a-792fe262126b"
      },
      "outputs": [
        {
          "output_type": "stream",
          "name": "stdout",
          "text": [
            "Drive already mounted at /content/drive; to attempt to forcibly remount, call drive.mount(\"/content/drive\", force_remount=True).\n"
          ]
        }
      ],
      "source": [
        "drive.mount('/content/drive')"
      ]
    },
    {
      "cell_type": "markdown",
      "metadata": {
        "id": "GP_0Urs9M1Gg"
      },
      "source": [
        "### **In this part, the binary classification of psoriasis and similar conditions is performed.**"
      ]
    },
    {
      "cell_type": "code",
      "execution_count": 27,
      "metadata": {
        "id": "Wr51DL9YJc2A"
      },
      "outputs": [],
      "source": [
        "train_path = '/content/drive/MyDrive/Research Group UT SUT UoA/Technical Calculations/Binary Dataset/train'\n",
        "test_path = '/content/drive/MyDrive/Research Group UT SUT UoA/Technical Calculations/Binary Dataset/test'"
      ]
    },
    {
      "cell_type": "code",
      "execution_count": 28,
      "metadata": {
        "id": "Ocq49m9MJc2B",
        "colab": {
          "base_uri": "https://localhost:8080/"
        },
        "outputId": "ddb7784e-9f58-4b32-aa5d-c36b889fbce7"
      },
      "outputs": [
        {
          "output_type": "stream",
          "name": "stdout",
          "text": [
            "2\n"
          ]
        }
      ],
      "source": [
        "folders = glob('/content/drive/MyDrive/Research Group UT SUT UoA/Technical Calculations/Binary Dataset/train/*')\n",
        "print(len(folders))"
      ]
    },
    {
      "cell_type": "code",
      "execution_count": 29,
      "metadata": {
        "id": "0lpUjgbcJc2B"
      },
      "outputs": [],
      "source": [
        "train_datagen = ImageDataGenerator(\n",
        "    rescale=1./255,\n",
        "    shear_range=0.2,\n",
        "    zoom_range=0.2,\n",
        "    horizontal_flip=True)"
      ]
    },
    {
      "cell_type": "code",
      "execution_count": 30,
      "metadata": {
        "id": "4Pv8wGS8Jc2B"
      },
      "outputs": [],
      "source": [
        "test_datagen = ImageDataGenerator(\n",
        "    rescale=1./255)"
      ]
    },
    {
      "cell_type": "code",
      "execution_count": 31,
      "metadata": {
        "id": "y8lENTH3Jc2C",
        "colab": {
          "base_uri": "https://localhost:8080/"
        },
        "outputId": "1c63fe01-f6c0-4796-d72c-1744b2f99cbe"
      },
      "outputs": [
        {
          "output_type": "stream",
          "name": "stdout",
          "text": [
            "Found 1680 images belonging to 2 classes.\n"
          ]
        }
      ],
      "source": [
        "train_set = train_datagen.flow_from_directory(train_path,\n",
        "                                                target_size = (224, 224),\n",
        "                                                batch_size=32,\n",
        "                                \n",
        "                                                 class_mode = 'categorical')"
      ]
    },
    {
      "cell_type": "code",
      "execution_count": 32,
      "metadata": {
        "id": "ZUL-S9H-Jc2C",
        "colab": {
          "base_uri": "https://localhost:8080/"
        },
        "outputId": "b5c72af8-4cd3-439a-98c9-f47db79d3c27"
      },
      "outputs": [
        {
          "output_type": "stream",
          "name": "stdout",
          "text": [
            "Found 420 images belonging to 2 classes.\n"
          ]
        }
      ],
      "source": [
        "test_set = test_datagen.flow_from_directory(test_path,\n",
        "                                            target_size = (224, 224),\n",
        "                                            shuffle=False,\n",
        "                                            batch_size=32,\n",
        "                                            class_mode = 'categorical')"
      ]
    },
    {
      "cell_type": "code",
      "execution_count": 33,
      "metadata": {
        "id": "hTC6HEGgJc2C"
      },
      "outputs": [],
      "source": [
        "input_tensor=Input(shape=(224,224,3))"
      ]
    },
    {
      "cell_type": "code",
      "execution_count": 73,
      "metadata": {
        "id": "ImERn6o0Jc2C"
      },
      "outputs": [],
      "source": [
        "model1 = ResNet50V2(input_tensor=input_tensor, weights='imagenet', include_top=False)\n",
        "for layer in model1.layers:\n",
        "  layer.tranable=True"
      ]
    },
    {
      "cell_type": "code",
      "execution_count": 74,
      "metadata": {
        "id": "pSD9lmhzJc2C"
      },
      "outputs": [],
      "source": [
        "x = GlobalAveragePooling2D(name='Pooling')(model1.output)\n",
        "x = Flatten(name='flatten')(x)\n",
        "x = Dense(100, kernel_regularizer=regularizers.l2(0.001),activation='softmax', name='fc1')(x)\n",
        "x=Dropout(0.5)(x)\n",
        "x = Dense(2,activation='softmax', name='fc2')(x)\n",
        "model1 = Model(inputs=input_tensor, outputs=x)"
      ]
    },
    {
      "cell_type": "code",
      "execution_count": 75,
      "metadata": {
        "id": "zYEnBczHJc2C",
        "colab": {
          "base_uri": "https://localhost:8080/"
        },
        "outputId": "290dab3d-4edc-401a-b5d0-46729ffc2313"
      },
      "outputs": [
        {
          "output_type": "stream",
          "name": "stdout",
          "text": [
            "Model: \"model_11\"\n",
            "__________________________________________________________________________________________________\n",
            " Layer (type)                   Output Shape         Param #     Connected to                     \n",
            "==================================================================================================\n",
            " input_2 (InputLayer)           [(None, 224, 224, 3  0           []                               \n",
            "                                )]                                                                \n",
            "                                                                                                  \n",
            " conv1_pad (ZeroPadding2D)      (None, 230, 230, 3)  0           ['input_2[0][0]']                \n",
            "                                                                                                  \n",
            " conv1_conv (Conv2D)            (None, 112, 112, 64  9472        ['conv1_pad[0][0]']              \n",
            "                                )                                                                 \n",
            "                                                                                                  \n",
            " pool1_pad (ZeroPadding2D)      (None, 114, 114, 64  0           ['conv1_conv[0][0]']             \n",
            "                                )                                                                 \n",
            "                                                                                                  \n",
            " pool1_pool (MaxPooling2D)      (None, 56, 56, 64)   0           ['pool1_pad[0][0]']              \n",
            "                                                                                                  \n",
            " conv2_block1_preact_bn (BatchN  (None, 56, 56, 64)  256         ['pool1_pool[0][0]']             \n",
            " ormalization)                                                                                    \n",
            "                                                                                                  \n",
            " conv2_block1_preact_relu (Acti  (None, 56, 56, 64)  0           ['conv2_block1_preact_bn[0][0]'] \n",
            " vation)                                                                                          \n",
            "                                                                                                  \n",
            " conv2_block1_1_conv (Conv2D)   (None, 56, 56, 64)   4096        ['conv2_block1_preact_relu[0][0]'\n",
            "                                                                 ]                                \n",
            "                                                                                                  \n",
            " conv2_block1_1_bn (BatchNormal  (None, 56, 56, 64)  256         ['conv2_block1_1_conv[0][0]']    \n",
            " ization)                                                                                         \n",
            "                                                                                                  \n",
            " conv2_block1_1_relu (Activatio  (None, 56, 56, 64)  0           ['conv2_block1_1_bn[0][0]']      \n",
            " n)                                                                                               \n",
            "                                                                                                  \n",
            " conv2_block1_2_pad (ZeroPaddin  (None, 58, 58, 64)  0           ['conv2_block1_1_relu[0][0]']    \n",
            " g2D)                                                                                             \n",
            "                                                                                                  \n",
            " conv2_block1_2_conv (Conv2D)   (None, 56, 56, 64)   36864       ['conv2_block1_2_pad[0][0]']     \n",
            "                                                                                                  \n",
            " conv2_block1_2_bn (BatchNormal  (None, 56, 56, 64)  256         ['conv2_block1_2_conv[0][0]']    \n",
            " ization)                                                                                         \n",
            "                                                                                                  \n",
            " conv2_block1_2_relu (Activatio  (None, 56, 56, 64)  0           ['conv2_block1_2_bn[0][0]']      \n",
            " n)                                                                                               \n",
            "                                                                                                  \n",
            " conv2_block1_0_conv (Conv2D)   (None, 56, 56, 256)  16640       ['conv2_block1_preact_relu[0][0]'\n",
            "                                                                 ]                                \n",
            "                                                                                                  \n",
            " conv2_block1_3_conv (Conv2D)   (None, 56, 56, 256)  16640       ['conv2_block1_2_relu[0][0]']    \n",
            "                                                                                                  \n",
            " conv2_block1_out (Add)         (None, 56, 56, 256)  0           ['conv2_block1_0_conv[0][0]',    \n",
            "                                                                  'conv2_block1_3_conv[0][0]']    \n",
            "                                                                                                  \n",
            " conv2_block2_preact_bn (BatchN  (None, 56, 56, 256)  1024       ['conv2_block1_out[0][0]']       \n",
            " ormalization)                                                                                    \n",
            "                                                                                                  \n",
            " conv2_block2_preact_relu (Acti  (None, 56, 56, 256)  0          ['conv2_block2_preact_bn[0][0]'] \n",
            " vation)                                                                                          \n",
            "                                                                                                  \n",
            " conv2_block2_1_conv (Conv2D)   (None, 56, 56, 64)   16384       ['conv2_block2_preact_relu[0][0]'\n",
            "                                                                 ]                                \n",
            "                                                                                                  \n",
            " conv2_block2_1_bn (BatchNormal  (None, 56, 56, 64)  256         ['conv2_block2_1_conv[0][0]']    \n",
            " ization)                                                                                         \n",
            "                                                                                                  \n",
            " conv2_block2_1_relu (Activatio  (None, 56, 56, 64)  0           ['conv2_block2_1_bn[0][0]']      \n",
            " n)                                                                                               \n",
            "                                                                                                  \n",
            " conv2_block2_2_pad (ZeroPaddin  (None, 58, 58, 64)  0           ['conv2_block2_1_relu[0][0]']    \n",
            " g2D)                                                                                             \n",
            "                                                                                                  \n",
            " conv2_block2_2_conv (Conv2D)   (None, 56, 56, 64)   36864       ['conv2_block2_2_pad[0][0]']     \n",
            "                                                                                                  \n",
            " conv2_block2_2_bn (BatchNormal  (None, 56, 56, 64)  256         ['conv2_block2_2_conv[0][0]']    \n",
            " ization)                                                                                         \n",
            "                                                                                                  \n",
            " conv2_block2_2_relu (Activatio  (None, 56, 56, 64)  0           ['conv2_block2_2_bn[0][0]']      \n",
            " n)                                                                                               \n",
            "                                                                                                  \n",
            " conv2_block2_3_conv (Conv2D)   (None, 56, 56, 256)  16640       ['conv2_block2_2_relu[0][0]']    \n",
            "                                                                                                  \n",
            " conv2_block2_out (Add)         (None, 56, 56, 256)  0           ['conv2_block1_out[0][0]',       \n",
            "                                                                  'conv2_block2_3_conv[0][0]']    \n",
            "                                                                                                  \n",
            " conv2_block3_preact_bn (BatchN  (None, 56, 56, 256)  1024       ['conv2_block2_out[0][0]']       \n",
            " ormalization)                                                                                    \n",
            "                                                                                                  \n",
            " conv2_block3_preact_relu (Acti  (None, 56, 56, 256)  0          ['conv2_block3_preact_bn[0][0]'] \n",
            " vation)                                                                                          \n",
            "                                                                                                  \n",
            " conv2_block3_1_conv (Conv2D)   (None, 56, 56, 64)   16384       ['conv2_block3_preact_relu[0][0]'\n",
            "                                                                 ]                                \n",
            "                                                                                                  \n",
            " conv2_block3_1_bn (BatchNormal  (None, 56, 56, 64)  256         ['conv2_block3_1_conv[0][0]']    \n",
            " ization)                                                                                         \n",
            "                                                                                                  \n",
            " conv2_block3_1_relu (Activatio  (None, 56, 56, 64)  0           ['conv2_block3_1_bn[0][0]']      \n",
            " n)                                                                                               \n",
            "                                                                                                  \n",
            " conv2_block3_2_pad (ZeroPaddin  (None, 58, 58, 64)  0           ['conv2_block3_1_relu[0][0]']    \n",
            " g2D)                                                                                             \n",
            "                                                                                                  \n",
            " conv2_block3_2_conv (Conv2D)   (None, 28, 28, 64)   36864       ['conv2_block3_2_pad[0][0]']     \n",
            "                                                                                                  \n",
            " conv2_block3_2_bn (BatchNormal  (None, 28, 28, 64)  256         ['conv2_block3_2_conv[0][0]']    \n",
            " ization)                                                                                         \n",
            "                                                                                                  \n",
            " conv2_block3_2_relu (Activatio  (None, 28, 28, 64)  0           ['conv2_block3_2_bn[0][0]']      \n",
            " n)                                                                                               \n",
            "                                                                                                  \n",
            " max_pooling2d_33 (MaxPooling2D  (None, 28, 28, 256)  0          ['conv2_block2_out[0][0]']       \n",
            " )                                                                                                \n",
            "                                                                                                  \n",
            " conv2_block3_3_conv (Conv2D)   (None, 28, 28, 256)  16640       ['conv2_block3_2_relu[0][0]']    \n",
            "                                                                                                  \n",
            " conv2_block3_out (Add)         (None, 28, 28, 256)  0           ['max_pooling2d_33[0][0]',       \n",
            "                                                                  'conv2_block3_3_conv[0][0]']    \n",
            "                                                                                                  \n",
            " conv3_block1_preact_bn (BatchN  (None, 28, 28, 256)  1024       ['conv2_block3_out[0][0]']       \n",
            " ormalization)                                                                                    \n",
            "                                                                                                  \n",
            " conv3_block1_preact_relu (Acti  (None, 28, 28, 256)  0          ['conv3_block1_preact_bn[0][0]'] \n",
            " vation)                                                                                          \n",
            "                                                                                                  \n",
            " conv3_block1_1_conv (Conv2D)   (None, 28, 28, 128)  32768       ['conv3_block1_preact_relu[0][0]'\n",
            "                                                                 ]                                \n",
            "                                                                                                  \n",
            " conv3_block1_1_bn (BatchNormal  (None, 28, 28, 128)  512        ['conv3_block1_1_conv[0][0]']    \n",
            " ization)                                                                                         \n",
            "                                                                                                  \n",
            " conv3_block1_1_relu (Activatio  (None, 28, 28, 128)  0          ['conv3_block1_1_bn[0][0]']      \n",
            " n)                                                                                               \n",
            "                                                                                                  \n",
            " conv3_block1_2_pad (ZeroPaddin  (None, 30, 30, 128)  0          ['conv3_block1_1_relu[0][0]']    \n",
            " g2D)                                                                                             \n",
            "                                                                                                  \n",
            " conv3_block1_2_conv (Conv2D)   (None, 28, 28, 128)  147456      ['conv3_block1_2_pad[0][0]']     \n",
            "                                                                                                  \n",
            " conv3_block1_2_bn (BatchNormal  (None, 28, 28, 128)  512        ['conv3_block1_2_conv[0][0]']    \n",
            " ization)                                                                                         \n",
            "                                                                                                  \n",
            " conv3_block1_2_relu (Activatio  (None, 28, 28, 128)  0          ['conv3_block1_2_bn[0][0]']      \n",
            " n)                                                                                               \n",
            "                                                                                                  \n",
            " conv3_block1_0_conv (Conv2D)   (None, 28, 28, 512)  131584      ['conv3_block1_preact_relu[0][0]'\n",
            "                                                                 ]                                \n",
            "                                                                                                  \n",
            " conv3_block1_3_conv (Conv2D)   (None, 28, 28, 512)  66048       ['conv3_block1_2_relu[0][0]']    \n",
            "                                                                                                  \n",
            " conv3_block1_out (Add)         (None, 28, 28, 512)  0           ['conv3_block1_0_conv[0][0]',    \n",
            "                                                                  'conv3_block1_3_conv[0][0]']    \n",
            "                                                                                                  \n",
            " conv3_block2_preact_bn (BatchN  (None, 28, 28, 512)  2048       ['conv3_block1_out[0][0]']       \n",
            " ormalization)                                                                                    \n",
            "                                                                                                  \n",
            " conv3_block2_preact_relu (Acti  (None, 28, 28, 512)  0          ['conv3_block2_preact_bn[0][0]'] \n",
            " vation)                                                                                          \n",
            "                                                                                                  \n",
            " conv3_block2_1_conv (Conv2D)   (None, 28, 28, 128)  65536       ['conv3_block2_preact_relu[0][0]'\n",
            "                                                                 ]                                \n",
            "                                                                                                  \n",
            " conv3_block2_1_bn (BatchNormal  (None, 28, 28, 128)  512        ['conv3_block2_1_conv[0][0]']    \n",
            " ization)                                                                                         \n",
            "                                                                                                  \n",
            " conv3_block2_1_relu (Activatio  (None, 28, 28, 128)  0          ['conv3_block2_1_bn[0][0]']      \n",
            " n)                                                                                               \n",
            "                                                                                                  \n",
            " conv3_block2_2_pad (ZeroPaddin  (None, 30, 30, 128)  0          ['conv3_block2_1_relu[0][0]']    \n",
            " g2D)                                                                                             \n",
            "                                                                                                  \n",
            " conv3_block2_2_conv (Conv2D)   (None, 28, 28, 128)  147456      ['conv3_block2_2_pad[0][0]']     \n",
            "                                                                                                  \n",
            " conv3_block2_2_bn (BatchNormal  (None, 28, 28, 128)  512        ['conv3_block2_2_conv[0][0]']    \n",
            " ization)                                                                                         \n",
            "                                                                                                  \n",
            " conv3_block2_2_relu (Activatio  (None, 28, 28, 128)  0          ['conv3_block2_2_bn[0][0]']      \n",
            " n)                                                                                               \n",
            "                                                                                                  \n",
            " conv3_block2_3_conv (Conv2D)   (None, 28, 28, 512)  66048       ['conv3_block2_2_relu[0][0]']    \n",
            "                                                                                                  \n",
            " conv3_block2_out (Add)         (None, 28, 28, 512)  0           ['conv3_block1_out[0][0]',       \n",
            "                                                                  'conv3_block2_3_conv[0][0]']    \n",
            "                                                                                                  \n",
            " conv3_block3_preact_bn (BatchN  (None, 28, 28, 512)  2048       ['conv3_block2_out[0][0]']       \n",
            " ormalization)                                                                                    \n",
            "                                                                                                  \n",
            " conv3_block3_preact_relu (Acti  (None, 28, 28, 512)  0          ['conv3_block3_preact_bn[0][0]'] \n",
            " vation)                                                                                          \n",
            "                                                                                                  \n",
            " conv3_block3_1_conv (Conv2D)   (None, 28, 28, 128)  65536       ['conv3_block3_preact_relu[0][0]'\n",
            "                                                                 ]                                \n",
            "                                                                                                  \n",
            " conv3_block3_1_bn (BatchNormal  (None, 28, 28, 128)  512        ['conv3_block3_1_conv[0][0]']    \n",
            " ization)                                                                                         \n",
            "                                                                                                  \n",
            " conv3_block3_1_relu (Activatio  (None, 28, 28, 128)  0          ['conv3_block3_1_bn[0][0]']      \n",
            " n)                                                                                               \n",
            "                                                                                                  \n",
            " conv3_block3_2_pad (ZeroPaddin  (None, 30, 30, 128)  0          ['conv3_block3_1_relu[0][0]']    \n",
            " g2D)                                                                                             \n",
            "                                                                                                  \n",
            " conv3_block3_2_conv (Conv2D)   (None, 28, 28, 128)  147456      ['conv3_block3_2_pad[0][0]']     \n",
            "                                                                                                  \n",
            " conv3_block3_2_bn (BatchNormal  (None, 28, 28, 128)  512        ['conv3_block3_2_conv[0][0]']    \n",
            " ization)                                                                                         \n",
            "                                                                                                  \n",
            " conv3_block3_2_relu (Activatio  (None, 28, 28, 128)  0          ['conv3_block3_2_bn[0][0]']      \n",
            " n)                                                                                               \n",
            "                                                                                                  \n",
            " conv3_block3_3_conv (Conv2D)   (None, 28, 28, 512)  66048       ['conv3_block3_2_relu[0][0]']    \n",
            "                                                                                                  \n",
            " conv3_block3_out (Add)         (None, 28, 28, 512)  0           ['conv3_block2_out[0][0]',       \n",
            "                                                                  'conv3_block3_3_conv[0][0]']    \n",
            "                                                                                                  \n",
            " conv3_block4_preact_bn (BatchN  (None, 28, 28, 512)  2048       ['conv3_block3_out[0][0]']       \n",
            " ormalization)                                                                                    \n",
            "                                                                                                  \n",
            " conv3_block4_preact_relu (Acti  (None, 28, 28, 512)  0          ['conv3_block4_preact_bn[0][0]'] \n",
            " vation)                                                                                          \n",
            "                                                                                                  \n",
            " conv3_block4_1_conv (Conv2D)   (None, 28, 28, 128)  65536       ['conv3_block4_preact_relu[0][0]'\n",
            "                                                                 ]                                \n",
            "                                                                                                  \n",
            " conv3_block4_1_bn (BatchNormal  (None, 28, 28, 128)  512        ['conv3_block4_1_conv[0][0]']    \n",
            " ization)                                                                                         \n",
            "                                                                                                  \n",
            " conv3_block4_1_relu (Activatio  (None, 28, 28, 128)  0          ['conv3_block4_1_bn[0][0]']      \n",
            " n)                                                                                               \n",
            "                                                                                                  \n",
            " conv3_block4_2_pad (ZeroPaddin  (None, 30, 30, 128)  0          ['conv3_block4_1_relu[0][0]']    \n",
            " g2D)                                                                                             \n",
            "                                                                                                  \n",
            " conv3_block4_2_conv (Conv2D)   (None, 14, 14, 128)  147456      ['conv3_block4_2_pad[0][0]']     \n",
            "                                                                                                  \n",
            " conv3_block4_2_bn (BatchNormal  (None, 14, 14, 128)  512        ['conv3_block4_2_conv[0][0]']    \n",
            " ization)                                                                                         \n",
            "                                                                                                  \n",
            " conv3_block4_2_relu (Activatio  (None, 14, 14, 128)  0          ['conv3_block4_2_bn[0][0]']      \n",
            " n)                                                                                               \n",
            "                                                                                                  \n",
            " max_pooling2d_34 (MaxPooling2D  (None, 14, 14, 512)  0          ['conv3_block3_out[0][0]']       \n",
            " )                                                                                                \n",
            "                                                                                                  \n",
            " conv3_block4_3_conv (Conv2D)   (None, 14, 14, 512)  66048       ['conv3_block4_2_relu[0][0]']    \n",
            "                                                                                                  \n",
            " conv3_block4_out (Add)         (None, 14, 14, 512)  0           ['max_pooling2d_34[0][0]',       \n",
            "                                                                  'conv3_block4_3_conv[0][0]']    \n",
            "                                                                                                  \n",
            " conv4_block1_preact_bn (BatchN  (None, 14, 14, 512)  2048       ['conv3_block4_out[0][0]']       \n",
            " ormalization)                                                                                    \n",
            "                                                                                                  \n",
            " conv4_block1_preact_relu (Acti  (None, 14, 14, 512)  0          ['conv4_block1_preact_bn[0][0]'] \n",
            " vation)                                                                                          \n",
            "                                                                                                  \n",
            " conv4_block1_1_conv (Conv2D)   (None, 14, 14, 256)  131072      ['conv4_block1_preact_relu[0][0]'\n",
            "                                                                 ]                                \n",
            "                                                                                                  \n",
            " conv4_block1_1_bn (BatchNormal  (None, 14, 14, 256)  1024       ['conv4_block1_1_conv[0][0]']    \n",
            " ization)                                                                                         \n",
            "                                                                                                  \n",
            " conv4_block1_1_relu (Activatio  (None, 14, 14, 256)  0          ['conv4_block1_1_bn[0][0]']      \n",
            " n)                                                                                               \n",
            "                                                                                                  \n",
            " conv4_block1_2_pad (ZeroPaddin  (None, 16, 16, 256)  0          ['conv4_block1_1_relu[0][0]']    \n",
            " g2D)                                                                                             \n",
            "                                                                                                  \n",
            " conv4_block1_2_conv (Conv2D)   (None, 14, 14, 256)  589824      ['conv4_block1_2_pad[0][0]']     \n",
            "                                                                                                  \n",
            " conv4_block1_2_bn (BatchNormal  (None, 14, 14, 256)  1024       ['conv4_block1_2_conv[0][0]']    \n",
            " ization)                                                                                         \n",
            "                                                                                                  \n",
            " conv4_block1_2_relu (Activatio  (None, 14, 14, 256)  0          ['conv4_block1_2_bn[0][0]']      \n",
            " n)                                                                                               \n",
            "                                                                                                  \n",
            " conv4_block1_0_conv (Conv2D)   (None, 14, 14, 1024  525312      ['conv4_block1_preact_relu[0][0]'\n",
            "                                )                                ]                                \n",
            "                                                                                                  \n",
            " conv4_block1_3_conv (Conv2D)   (None, 14, 14, 1024  263168      ['conv4_block1_2_relu[0][0]']    \n",
            "                                )                                                                 \n",
            "                                                                                                  \n",
            " conv4_block1_out (Add)         (None, 14, 14, 1024  0           ['conv4_block1_0_conv[0][0]',    \n",
            "                                )                                 'conv4_block1_3_conv[0][0]']    \n",
            "                                                                                                  \n",
            " conv4_block2_preact_bn (BatchN  (None, 14, 14, 1024  4096       ['conv4_block1_out[0][0]']       \n",
            " ormalization)                  )                                                                 \n",
            "                                                                                                  \n",
            " conv4_block2_preact_relu (Acti  (None, 14, 14, 1024  0          ['conv4_block2_preact_bn[0][0]'] \n",
            " vation)                        )                                                                 \n",
            "                                                                                                  \n",
            " conv4_block2_1_conv (Conv2D)   (None, 14, 14, 256)  262144      ['conv4_block2_preact_relu[0][0]'\n",
            "                                                                 ]                                \n",
            "                                                                                                  \n",
            " conv4_block2_1_bn (BatchNormal  (None, 14, 14, 256)  1024       ['conv4_block2_1_conv[0][0]']    \n",
            " ization)                                                                                         \n",
            "                                                                                                  \n",
            " conv4_block2_1_relu (Activatio  (None, 14, 14, 256)  0          ['conv4_block2_1_bn[0][0]']      \n",
            " n)                                                                                               \n",
            "                                                                                                  \n",
            " conv4_block2_2_pad (ZeroPaddin  (None, 16, 16, 256)  0          ['conv4_block2_1_relu[0][0]']    \n",
            " g2D)                                                                                             \n",
            "                                                                                                  \n",
            " conv4_block2_2_conv (Conv2D)   (None, 14, 14, 256)  589824      ['conv4_block2_2_pad[0][0]']     \n",
            "                                                                                                  \n",
            " conv4_block2_2_bn (BatchNormal  (None, 14, 14, 256)  1024       ['conv4_block2_2_conv[0][0]']    \n",
            " ization)                                                                                         \n",
            "                                                                                                  \n",
            " conv4_block2_2_relu (Activatio  (None, 14, 14, 256)  0          ['conv4_block2_2_bn[0][0]']      \n",
            " n)                                                                                               \n",
            "                                                                                                  \n",
            " conv4_block2_3_conv (Conv2D)   (None, 14, 14, 1024  263168      ['conv4_block2_2_relu[0][0]']    \n",
            "                                )                                                                 \n",
            "                                                                                                  \n",
            " conv4_block2_out (Add)         (None, 14, 14, 1024  0           ['conv4_block1_out[0][0]',       \n",
            "                                )                                 'conv4_block2_3_conv[0][0]']    \n",
            "                                                                                                  \n",
            " conv4_block3_preact_bn (BatchN  (None, 14, 14, 1024  4096       ['conv4_block2_out[0][0]']       \n",
            " ormalization)                  )                                                                 \n",
            "                                                                                                  \n",
            " conv4_block3_preact_relu (Acti  (None, 14, 14, 1024  0          ['conv4_block3_preact_bn[0][0]'] \n",
            " vation)                        )                                                                 \n",
            "                                                                                                  \n",
            " conv4_block3_1_conv (Conv2D)   (None, 14, 14, 256)  262144      ['conv4_block3_preact_relu[0][0]'\n",
            "                                                                 ]                                \n",
            "                                                                                                  \n",
            " conv4_block3_1_bn (BatchNormal  (None, 14, 14, 256)  1024       ['conv4_block3_1_conv[0][0]']    \n",
            " ization)                                                                                         \n",
            "                                                                                                  \n",
            " conv4_block3_1_relu (Activatio  (None, 14, 14, 256)  0          ['conv4_block3_1_bn[0][0]']      \n",
            " n)                                                                                               \n",
            "                                                                                                  \n",
            " conv4_block3_2_pad (ZeroPaddin  (None, 16, 16, 256)  0          ['conv4_block3_1_relu[0][0]']    \n",
            " g2D)                                                                                             \n",
            "                                                                                                  \n",
            " conv4_block3_2_conv (Conv2D)   (None, 14, 14, 256)  589824      ['conv4_block3_2_pad[0][0]']     \n",
            "                                                                                                  \n",
            " conv4_block3_2_bn (BatchNormal  (None, 14, 14, 256)  1024       ['conv4_block3_2_conv[0][0]']    \n",
            " ization)                                                                                         \n",
            "                                                                                                  \n",
            " conv4_block3_2_relu (Activatio  (None, 14, 14, 256)  0          ['conv4_block3_2_bn[0][0]']      \n",
            " n)                                                                                               \n",
            "                                                                                                  \n",
            " conv4_block3_3_conv (Conv2D)   (None, 14, 14, 1024  263168      ['conv4_block3_2_relu[0][0]']    \n",
            "                                )                                                                 \n",
            "                                                                                                  \n",
            " conv4_block3_out (Add)         (None, 14, 14, 1024  0           ['conv4_block2_out[0][0]',       \n",
            "                                )                                 'conv4_block3_3_conv[0][0]']    \n",
            "                                                                                                  \n",
            " conv4_block4_preact_bn (BatchN  (None, 14, 14, 1024  4096       ['conv4_block3_out[0][0]']       \n",
            " ormalization)                  )                                                                 \n",
            "                                                                                                  \n",
            " conv4_block4_preact_relu (Acti  (None, 14, 14, 1024  0          ['conv4_block4_preact_bn[0][0]'] \n",
            " vation)                        )                                                                 \n",
            "                                                                                                  \n",
            " conv4_block4_1_conv (Conv2D)   (None, 14, 14, 256)  262144      ['conv4_block4_preact_relu[0][0]'\n",
            "                                                                 ]                                \n",
            "                                                                                                  \n",
            " conv4_block4_1_bn (BatchNormal  (None, 14, 14, 256)  1024       ['conv4_block4_1_conv[0][0]']    \n",
            " ization)                                                                                         \n",
            "                                                                                                  \n",
            " conv4_block4_1_relu (Activatio  (None, 14, 14, 256)  0          ['conv4_block4_1_bn[0][0]']      \n",
            " n)                                                                                               \n",
            "                                                                                                  \n",
            " conv4_block4_2_pad (ZeroPaddin  (None, 16, 16, 256)  0          ['conv4_block4_1_relu[0][0]']    \n",
            " g2D)                                                                                             \n",
            "                                                                                                  \n",
            " conv4_block4_2_conv (Conv2D)   (None, 14, 14, 256)  589824      ['conv4_block4_2_pad[0][0]']     \n",
            "                                                                                                  \n",
            " conv4_block4_2_bn (BatchNormal  (None, 14, 14, 256)  1024       ['conv4_block4_2_conv[0][0]']    \n",
            " ization)                                                                                         \n",
            "                                                                                                  \n",
            " conv4_block4_2_relu (Activatio  (None, 14, 14, 256)  0          ['conv4_block4_2_bn[0][0]']      \n",
            " n)                                                                                               \n",
            "                                                                                                  \n",
            " conv4_block4_3_conv (Conv2D)   (None, 14, 14, 1024  263168      ['conv4_block4_2_relu[0][0]']    \n",
            "                                )                                                                 \n",
            "                                                                                                  \n",
            " conv4_block4_out (Add)         (None, 14, 14, 1024  0           ['conv4_block3_out[0][0]',       \n",
            "                                )                                 'conv4_block4_3_conv[0][0]']    \n",
            "                                                                                                  \n",
            " conv4_block5_preact_bn (BatchN  (None, 14, 14, 1024  4096       ['conv4_block4_out[0][0]']       \n",
            " ormalization)                  )                                                                 \n",
            "                                                                                                  \n",
            " conv4_block5_preact_relu (Acti  (None, 14, 14, 1024  0          ['conv4_block5_preact_bn[0][0]'] \n",
            " vation)                        )                                                                 \n",
            "                                                                                                  \n",
            " conv4_block5_1_conv (Conv2D)   (None, 14, 14, 256)  262144      ['conv4_block5_preact_relu[0][0]'\n",
            "                                                                 ]                                \n",
            "                                                                                                  \n",
            " conv4_block5_1_bn (BatchNormal  (None, 14, 14, 256)  1024       ['conv4_block5_1_conv[0][0]']    \n",
            " ization)                                                                                         \n",
            "                                                                                                  \n",
            " conv4_block5_1_relu (Activatio  (None, 14, 14, 256)  0          ['conv4_block5_1_bn[0][0]']      \n",
            " n)                                                                                               \n",
            "                                                                                                  \n",
            " conv4_block5_2_pad (ZeroPaddin  (None, 16, 16, 256)  0          ['conv4_block5_1_relu[0][0]']    \n",
            " g2D)                                                                                             \n",
            "                                                                                                  \n",
            " conv4_block5_2_conv (Conv2D)   (None, 14, 14, 256)  589824      ['conv4_block5_2_pad[0][0]']     \n",
            "                                                                                                  \n",
            " conv4_block5_2_bn (BatchNormal  (None, 14, 14, 256)  1024       ['conv4_block5_2_conv[0][0]']    \n",
            " ization)                                                                                         \n",
            "                                                                                                  \n",
            " conv4_block5_2_relu (Activatio  (None, 14, 14, 256)  0          ['conv4_block5_2_bn[0][0]']      \n",
            " n)                                                                                               \n",
            "                                                                                                  \n",
            " conv4_block5_3_conv (Conv2D)   (None, 14, 14, 1024  263168      ['conv4_block5_2_relu[0][0]']    \n",
            "                                )                                                                 \n",
            "                                                                                                  \n",
            " conv4_block5_out (Add)         (None, 14, 14, 1024  0           ['conv4_block4_out[0][0]',       \n",
            "                                )                                 'conv4_block5_3_conv[0][0]']    \n",
            "                                                                                                  \n",
            " conv4_block6_preact_bn (BatchN  (None, 14, 14, 1024  4096       ['conv4_block5_out[0][0]']       \n",
            " ormalization)                  )                                                                 \n",
            "                                                                                                  \n",
            " conv4_block6_preact_relu (Acti  (None, 14, 14, 1024  0          ['conv4_block6_preact_bn[0][0]'] \n",
            " vation)                        )                                                                 \n",
            "                                                                                                  \n",
            " conv4_block6_1_conv (Conv2D)   (None, 14, 14, 256)  262144      ['conv4_block6_preact_relu[0][0]'\n",
            "                                                                 ]                                \n",
            "                                                                                                  \n",
            " conv4_block6_1_bn (BatchNormal  (None, 14, 14, 256)  1024       ['conv4_block6_1_conv[0][0]']    \n",
            " ization)                                                                                         \n",
            "                                                                                                  \n",
            " conv4_block6_1_relu (Activatio  (None, 14, 14, 256)  0          ['conv4_block6_1_bn[0][0]']      \n",
            " n)                                                                                               \n",
            "                                                                                                  \n",
            " conv4_block6_2_pad (ZeroPaddin  (None, 16, 16, 256)  0          ['conv4_block6_1_relu[0][0]']    \n",
            " g2D)                                                                                             \n",
            "                                                                                                  \n",
            " conv4_block6_2_conv (Conv2D)   (None, 7, 7, 256)    589824      ['conv4_block6_2_pad[0][0]']     \n",
            "                                                                                                  \n",
            " conv4_block6_2_bn (BatchNormal  (None, 7, 7, 256)   1024        ['conv4_block6_2_conv[0][0]']    \n",
            " ization)                                                                                         \n",
            "                                                                                                  \n",
            " conv4_block6_2_relu (Activatio  (None, 7, 7, 256)   0           ['conv4_block6_2_bn[0][0]']      \n",
            " n)                                                                                               \n",
            "                                                                                                  \n",
            " max_pooling2d_35 (MaxPooling2D  (None, 7, 7, 1024)  0           ['conv4_block5_out[0][0]']       \n",
            " )                                                                                                \n",
            "                                                                                                  \n",
            " conv4_block6_3_conv (Conv2D)   (None, 7, 7, 1024)   263168      ['conv4_block6_2_relu[0][0]']    \n",
            "                                                                                                  \n",
            " conv4_block6_out (Add)         (None, 7, 7, 1024)   0           ['max_pooling2d_35[0][0]',       \n",
            "                                                                  'conv4_block6_3_conv[0][0]']    \n",
            "                                                                                                  \n",
            " conv5_block1_preact_bn (BatchN  (None, 7, 7, 1024)  4096        ['conv4_block6_out[0][0]']       \n",
            " ormalization)                                                                                    \n",
            "                                                                                                  \n",
            " conv5_block1_preact_relu (Acti  (None, 7, 7, 1024)  0           ['conv5_block1_preact_bn[0][0]'] \n",
            " vation)                                                                                          \n",
            "                                                                                                  \n",
            " conv5_block1_1_conv (Conv2D)   (None, 7, 7, 512)    524288      ['conv5_block1_preact_relu[0][0]'\n",
            "                                                                 ]                                \n",
            "                                                                                                  \n",
            " conv5_block1_1_bn (BatchNormal  (None, 7, 7, 512)   2048        ['conv5_block1_1_conv[0][0]']    \n",
            " ization)                                                                                         \n",
            "                                                                                                  \n",
            " conv5_block1_1_relu (Activatio  (None, 7, 7, 512)   0           ['conv5_block1_1_bn[0][0]']      \n",
            " n)                                                                                               \n",
            "                                                                                                  \n",
            " conv5_block1_2_pad (ZeroPaddin  (None, 9, 9, 512)   0           ['conv5_block1_1_relu[0][0]']    \n",
            " g2D)                                                                                             \n",
            "                                                                                                  \n",
            " conv5_block1_2_conv (Conv2D)   (None, 7, 7, 512)    2359296     ['conv5_block1_2_pad[0][0]']     \n",
            "                                                                                                  \n",
            " conv5_block1_2_bn (BatchNormal  (None, 7, 7, 512)   2048        ['conv5_block1_2_conv[0][0]']    \n",
            " ization)                                                                                         \n",
            "                                                                                                  \n",
            " conv5_block1_2_relu (Activatio  (None, 7, 7, 512)   0           ['conv5_block1_2_bn[0][0]']      \n",
            " n)                                                                                               \n",
            "                                                                                                  \n",
            " conv5_block1_0_conv (Conv2D)   (None, 7, 7, 2048)   2099200     ['conv5_block1_preact_relu[0][0]'\n",
            "                                                                 ]                                \n",
            "                                                                                                  \n",
            " conv5_block1_3_conv (Conv2D)   (None, 7, 7, 2048)   1050624     ['conv5_block1_2_relu[0][0]']    \n",
            "                                                                                                  \n",
            " conv5_block1_out (Add)         (None, 7, 7, 2048)   0           ['conv5_block1_0_conv[0][0]',    \n",
            "                                                                  'conv5_block1_3_conv[0][0]']    \n",
            "                                                                                                  \n",
            " conv5_block2_preact_bn (BatchN  (None, 7, 7, 2048)  8192        ['conv5_block1_out[0][0]']       \n",
            " ormalization)                                                                                    \n",
            "                                                                                                  \n",
            " conv5_block2_preact_relu (Acti  (None, 7, 7, 2048)  0           ['conv5_block2_preact_bn[0][0]'] \n",
            " vation)                                                                                          \n",
            "                                                                                                  \n",
            " conv5_block2_1_conv (Conv2D)   (None, 7, 7, 512)    1048576     ['conv5_block2_preact_relu[0][0]'\n",
            "                                                                 ]                                \n",
            "                                                                                                  \n",
            " conv5_block2_1_bn (BatchNormal  (None, 7, 7, 512)   2048        ['conv5_block2_1_conv[0][0]']    \n",
            " ization)                                                                                         \n",
            "                                                                                                  \n",
            " conv5_block2_1_relu (Activatio  (None, 7, 7, 512)   0           ['conv5_block2_1_bn[0][0]']      \n",
            " n)                                                                                               \n",
            "                                                                                                  \n",
            " conv5_block2_2_pad (ZeroPaddin  (None, 9, 9, 512)   0           ['conv5_block2_1_relu[0][0]']    \n",
            " g2D)                                                                                             \n",
            "                                                                                                  \n",
            " conv5_block2_2_conv (Conv2D)   (None, 7, 7, 512)    2359296     ['conv5_block2_2_pad[0][0]']     \n",
            "                                                                                                  \n",
            " conv5_block2_2_bn (BatchNormal  (None, 7, 7, 512)   2048        ['conv5_block2_2_conv[0][0]']    \n",
            " ization)                                                                                         \n",
            "                                                                                                  \n",
            " conv5_block2_2_relu (Activatio  (None, 7, 7, 512)   0           ['conv5_block2_2_bn[0][0]']      \n",
            " n)                                                                                               \n",
            "                                                                                                  \n",
            " conv5_block2_3_conv (Conv2D)   (None, 7, 7, 2048)   1050624     ['conv5_block2_2_relu[0][0]']    \n",
            "                                                                                                  \n",
            " conv5_block2_out (Add)         (None, 7, 7, 2048)   0           ['conv5_block1_out[0][0]',       \n",
            "                                                                  'conv5_block2_3_conv[0][0]']    \n",
            "                                                                                                  \n",
            " conv5_block3_preact_bn (BatchN  (None, 7, 7, 2048)  8192        ['conv5_block2_out[0][0]']       \n",
            " ormalization)                                                                                    \n",
            "                                                                                                  \n",
            " conv5_block3_preact_relu (Acti  (None, 7, 7, 2048)  0           ['conv5_block3_preact_bn[0][0]'] \n",
            " vation)                                                                                          \n",
            "                                                                                                  \n",
            " conv5_block3_1_conv (Conv2D)   (None, 7, 7, 512)    1048576     ['conv5_block3_preact_relu[0][0]'\n",
            "                                                                 ]                                \n",
            "                                                                                                  \n",
            " conv5_block3_1_bn (BatchNormal  (None, 7, 7, 512)   2048        ['conv5_block3_1_conv[0][0]']    \n",
            " ization)                                                                                         \n",
            "                                                                                                  \n",
            " conv5_block3_1_relu (Activatio  (None, 7, 7, 512)   0           ['conv5_block3_1_bn[0][0]']      \n",
            " n)                                                                                               \n",
            "                                                                                                  \n",
            " conv5_block3_2_pad (ZeroPaddin  (None, 9, 9, 512)   0           ['conv5_block3_1_relu[0][0]']    \n",
            " g2D)                                                                                             \n",
            "                                                                                                  \n",
            " conv5_block3_2_conv (Conv2D)   (None, 7, 7, 512)    2359296     ['conv5_block3_2_pad[0][0]']     \n",
            "                                                                                                  \n",
            " conv5_block3_2_bn (BatchNormal  (None, 7, 7, 512)   2048        ['conv5_block3_2_conv[0][0]']    \n",
            " ization)                                                                                         \n",
            "                                                                                                  \n",
            " conv5_block3_2_relu (Activatio  (None, 7, 7, 512)   0           ['conv5_block3_2_bn[0][0]']      \n",
            " n)                                                                                               \n",
            "                                                                                                  \n",
            " conv5_block3_3_conv (Conv2D)   (None, 7, 7, 2048)   1050624     ['conv5_block3_2_relu[0][0]']    \n",
            "                                                                                                  \n",
            " conv5_block3_out (Add)         (None, 7, 7, 2048)   0           ['conv5_block2_out[0][0]',       \n",
            "                                                                  'conv5_block3_3_conv[0][0]']    \n",
            "                                                                                                  \n",
            " post_bn (BatchNormalization)   (None, 7, 7, 2048)   8192        ['conv5_block3_out[0][0]']       \n",
            "                                                                                                  \n",
            " post_relu (Activation)         (None, 7, 7, 2048)   0           ['post_bn[0][0]']                \n",
            "                                                                                                  \n",
            " Pooling (GlobalAveragePooling2  (None, 2048)        0           ['post_relu[0][0]']              \n",
            " D)                                                                                               \n",
            "                                                                                                  \n",
            " flatten (Flatten)              (None, 2048)         0           ['Pooling[0][0]']                \n",
            "                                                                                                  \n",
            " fc1 (Dense)                    (None, 100)          204900      ['flatten[0][0]']                \n",
            "                                                                                                  \n",
            " dropout_12 (Dropout)           (None, 100)          0           ['fc1[0][0]']                    \n",
            "                                                                                                  \n",
            " fc2 (Dense)                    (None, 2)            202         ['dropout_12[0][0]']             \n",
            "                                                                                                  \n",
            "==================================================================================================\n",
            "Total params: 23,769,902\n",
            "Trainable params: 23,724,462\n",
            "Non-trainable params: 45,440\n",
            "__________________________________________________________________________________________________\n"
          ]
        }
      ],
      "source": [
        "model1.summary()"
      ]
    },
    {
      "cell_type": "code",
      "execution_count": 76,
      "metadata": {
        "id": "JgfXVqcIJc2C"
      },
      "outputs": [],
      "source": [
        "sgd = optimizers.SGD()\n",
        "model1.compile(loss='binary_crossentropy',\n",
        "              optimizer=sgd,\n",
        "              metrics=['accuracy'])"
      ]
    },
    {
      "cell_type": "code",
      "execution_count": 77,
      "metadata": {
        "id": "GMvigxAqJc2D",
        "colab": {
          "base_uri": "https://localhost:8080/"
        },
        "outputId": "8b3955d8-67c7-4514-c93e-ba77cd251d23"
      },
      "outputs": [
        {
          "output_type": "stream",
          "name": "stdout",
          "text": [
            "Epoch 1/50\n",
            "53/53 [==============================] - ETA: 0s - loss: 0.8818 - accuracy: 0.5762\n",
            "Epoch 1: val_accuracy improved from -inf to 0.60952, saving model to /content/drive/MyDrive/Research Group UT SUT UoA/Technical Calculations/Results/ResNet50V2_Binary.hdf5\n",
            "53/53 [==============================] - 46s 756ms/step - loss: 0.8818 - accuracy: 0.5762 - val_loss: 0.8798 - val_accuracy: 0.6095\n",
            "Epoch 2/50\n",
            "53/53 [==============================] - ETA: 0s - loss: 0.8781 - accuracy: 0.6101\n",
            "Epoch 2: val_accuracy improved from 0.60952 to 0.61190, saving model to /content/drive/MyDrive/Research Group UT SUT UoA/Technical Calculations/Results/ResNet50V2_Binary.hdf5\n",
            "53/53 [==============================] - 40s 740ms/step - loss: 0.8781 - accuracy: 0.6101 - val_loss: 0.8763 - val_accuracy: 0.6119\n",
            "Epoch 3/50\n",
            "53/53 [==============================] - ETA: 0s - loss: 0.8750 - accuracy: 0.6131\n",
            "Epoch 3: val_accuracy did not improve from 0.61190\n",
            "53/53 [==============================] - 39s 719ms/step - loss: 0.8750 - accuracy: 0.6131 - val_loss: 0.8730 - val_accuracy: 0.6119\n",
            "Epoch 4/50\n",
            "53/53 [==============================] - ETA: 0s - loss: 0.8719 - accuracy: 0.6131\n",
            "Epoch 4: val_accuracy did not improve from 0.61190\n",
            "53/53 [==============================] - 38s 701ms/step - loss: 0.8719 - accuracy: 0.6131 - val_loss: 0.8703 - val_accuracy: 0.6119\n",
            "Epoch 5/50\n",
            "53/53 [==============================] - ETA: 0s - loss: 0.8692 - accuracy: 0.6131\n",
            "Epoch 5: val_accuracy did not improve from 0.61190\n",
            "53/53 [==============================] - 38s 717ms/step - loss: 0.8692 - accuracy: 0.6131 - val_loss: 0.8679 - val_accuracy: 0.6119\n",
            "Epoch 6/50\n",
            "53/53 [==============================] - ETA: 0s - loss: 0.8669 - accuracy: 0.6131\n",
            "Epoch 6: val_accuracy did not improve from 0.61190\n",
            "53/53 [==============================] - 39s 722ms/step - loss: 0.8669 - accuracy: 0.6131 - val_loss: 0.8657 - val_accuracy: 0.6119\n",
            "Epoch 7/50\n",
            "53/53 [==============================] - ETA: 0s - loss: 0.8644 - accuracy: 0.6131\n",
            "Epoch 7: val_accuracy did not improve from 0.61190\n",
            "53/53 [==============================] - 39s 721ms/step - loss: 0.8644 - accuracy: 0.6131 - val_loss: 0.8636 - val_accuracy: 0.6119\n",
            "Epoch 8/50\n",
            "53/53 [==============================] - ETA: 0s - loss: 0.8630 - accuracy: 0.6131\n",
            "Epoch 8: val_accuracy did not improve from 0.61190\n",
            "53/53 [==============================] - 38s 715ms/step - loss: 0.8630 - accuracy: 0.6131 - val_loss: 0.8618 - val_accuracy: 0.6119\n",
            "Epoch 9/50\n",
            "53/53 [==============================] - ETA: 0s - loss: 0.8607 - accuracy: 0.6131\n",
            "Epoch 9: val_accuracy did not improve from 0.61190\n",
            "53/53 [==============================] - 38s 704ms/step - loss: 0.8607 - accuracy: 0.6131 - val_loss: 0.8600 - val_accuracy: 0.6119\n",
            "Epoch 10/50\n",
            "53/53 [==============================] - ETA: 0s - loss: 0.8590 - accuracy: 0.6131\n",
            "Epoch 10: val_accuracy did not improve from 0.61190\n",
            "53/53 [==============================] - 38s 705ms/step - loss: 0.8590 - accuracy: 0.6131 - val_loss: 0.8584 - val_accuracy: 0.6119\n",
            "Epoch 11/50\n",
            "53/53 [==============================] - ETA: 0s - loss: 0.8576 - accuracy: 0.6131\n",
            "Epoch 11: val_accuracy did not improve from 0.61190\n",
            "53/53 [==============================] - 38s 709ms/step - loss: 0.8576 - accuracy: 0.6131 - val_loss: 0.8568 - val_accuracy: 0.6119\n",
            "Epoch 12/50\n",
            "53/53 [==============================] - ETA: 0s - loss: 0.8564 - accuracy: 0.6131\n",
            "Epoch 12: val_accuracy did not improve from 0.61190\n",
            "53/53 [==============================] - 37s 700ms/step - loss: 0.8564 - accuracy: 0.6131 - val_loss: 0.8553 - val_accuracy: 0.6119\n",
            "Epoch 13/50\n",
            "53/53 [==============================] - ETA: 0s - loss: 0.8540 - accuracy: 0.6131\n",
            "Epoch 13: val_accuracy did not improve from 0.61190\n",
            "53/53 [==============================] - 38s 715ms/step - loss: 0.8540 - accuracy: 0.6131 - val_loss: 0.8535 - val_accuracy: 0.6119\n",
            "Epoch 14/50\n",
            "53/53 [==============================] - ETA: 0s - loss: 0.8526 - accuracy: 0.6131\n",
            "Epoch 14: val_accuracy did not improve from 0.61190\n",
            "53/53 [==============================] - 39s 726ms/step - loss: 0.8526 - accuracy: 0.6131 - val_loss: 0.8515 - val_accuracy: 0.6119\n",
            "Epoch 15/50\n",
            "53/53 [==============================] - ETA: 0s - loss: 0.8505 - accuracy: 0.6131\n",
            "Epoch 15: val_accuracy did not improve from 0.61190\n",
            "53/53 [==============================] - 39s 725ms/step - loss: 0.8505 - accuracy: 0.6131 - val_loss: 0.8489 - val_accuracy: 0.6119\n",
            "Epoch 16/50\n",
            "53/53 [==============================] - ETA: 0s - loss: 0.8481 - accuracy: 0.6131\n",
            "Epoch 16: val_accuracy did not improve from 0.61190\n",
            "53/53 [==============================] - 38s 711ms/step - loss: 0.8481 - accuracy: 0.6131 - val_loss: 0.8458 - val_accuracy: 0.6119\n",
            "Epoch 17/50\n",
            "53/53 [==============================] - ETA: 0s - loss: 0.8462 - accuracy: 0.6131\n",
            "Epoch 17: val_accuracy did not improve from 0.61190\n",
            "53/53 [==============================] - 38s 705ms/step - loss: 0.8462 - accuracy: 0.6131 - val_loss: 0.8419 - val_accuracy: 0.6119\n",
            "Epoch 18/50\n",
            "53/53 [==============================] - ETA: 0s - loss: 0.8415 - accuracy: 0.6131\n",
            "Epoch 18: val_accuracy did not improve from 0.61190\n",
            "53/53 [==============================] - 38s 712ms/step - loss: 0.8415 - accuracy: 0.6131 - val_loss: 0.8382 - val_accuracy: 0.6119\n",
            "Epoch 19/50\n",
            "53/53 [==============================] - ETA: 0s - loss: 0.8381 - accuracy: 0.6131\n",
            "Epoch 19: val_accuracy did not improve from 0.61190\n",
            "53/53 [==============================] - 38s 705ms/step - loss: 0.8381 - accuracy: 0.6131 - val_loss: 0.8346 - val_accuracy: 0.6119\n",
            "Epoch 20/50\n",
            "53/53 [==============================] - ETA: 0s - loss: 0.8339 - accuracy: 0.6131\n",
            "Epoch 20: val_accuracy did not improve from 0.61190\n",
            "53/53 [==============================] - 38s 707ms/step - loss: 0.8339 - accuracy: 0.6131 - val_loss: 0.8307 - val_accuracy: 0.6119\n",
            "Epoch 21/50\n",
            "53/53 [==============================] - ETA: 0s - loss: 0.8297 - accuracy: 0.6131\n",
            "Epoch 21: val_accuracy did not improve from 0.61190\n",
            "53/53 [==============================] - 38s 708ms/step - loss: 0.8297 - accuracy: 0.6131 - val_loss: 0.8270 - val_accuracy: 0.6119\n",
            "Epoch 22/50\n",
            "53/53 [==============================] - ETA: 0s - loss: 0.8264 - accuracy: 0.6131\n",
            "Epoch 22: val_accuracy did not improve from 0.61190\n",
            "53/53 [==============================] - 38s 708ms/step - loss: 0.8264 - accuracy: 0.6131 - val_loss: 0.8236 - val_accuracy: 0.6119\n",
            "Epoch 23/50\n",
            "53/53 [==============================] - ETA: 0s - loss: 0.8237 - accuracy: 0.6131\n",
            "Epoch 23: val_accuracy did not improve from 0.61190\n",
            "53/53 [==============================] - 38s 718ms/step - loss: 0.8237 - accuracy: 0.6131 - val_loss: 0.8204 - val_accuracy: 0.6119\n",
            "Epoch 24/50\n",
            "53/53 [==============================] - ETA: 0s - loss: 0.8178 - accuracy: 0.6131\n",
            "Epoch 24: val_accuracy did not improve from 0.61190\n",
            "53/53 [==============================] - 38s 718ms/step - loss: 0.8178 - accuracy: 0.6131 - val_loss: 0.8185 - val_accuracy: 0.6119\n",
            "Epoch 25/50\n",
            "53/53 [==============================] - ETA: 0s - loss: 0.8140 - accuracy: 0.6131\n",
            "Epoch 25: val_accuracy did not improve from 0.61190\n",
            "53/53 [==============================] - 38s 717ms/step - loss: 0.8140 - accuracy: 0.6131 - val_loss: 0.8156 - val_accuracy: 0.6119\n",
            "Epoch 26/50\n",
            "53/53 [==============================] - ETA: 0s - loss: 0.8080 - accuracy: 0.6131\n",
            "Epoch 26: val_accuracy did not improve from 0.61190\n",
            "53/53 [==============================] - 38s 711ms/step - loss: 0.8080 - accuracy: 0.6131 - val_loss: 0.8114 - val_accuracy: 0.6119\n",
            "Epoch 27/50\n",
            "53/53 [==============================] - ETA: 0s - loss: 0.8088 - accuracy: 0.6131\n",
            "Epoch 27: val_accuracy did not improve from 0.61190\n",
            "53/53 [==============================] - 37s 698ms/step - loss: 0.8088 - accuracy: 0.6131 - val_loss: 0.8078 - val_accuracy: 0.6119\n",
            "Epoch 28/50\n",
            "53/53 [==============================] - ETA: 0s - loss: 0.8030 - accuracy: 0.6131\n",
            "Epoch 28: val_accuracy did not improve from 0.61190\n",
            "53/53 [==============================] - 38s 708ms/step - loss: 0.8030 - accuracy: 0.6131 - val_loss: 0.8047 - val_accuracy: 0.6119\n",
            "Epoch 29/50\n",
            "53/53 [==============================] - ETA: 0s - loss: 0.8005 - accuracy: 0.6131\n",
            "Epoch 29: val_accuracy did not improve from 0.61190\n",
            "53/53 [==============================] - 37s 695ms/step - loss: 0.8005 - accuracy: 0.6131 - val_loss: 0.8025 - val_accuracy: 0.6119\n",
            "Epoch 30/50\n",
            "53/53 [==============================] - ETA: 0s - loss: 0.7952 - accuracy: 0.6131\n",
            "Epoch 30: val_accuracy did not improve from 0.61190\n",
            "53/53 [==============================] - 37s 701ms/step - loss: 0.7952 - accuracy: 0.6131 - val_loss: 0.7980 - val_accuracy: 0.6119\n",
            "Epoch 31/50\n",
            "53/53 [==============================] - ETA: 0s - loss: 0.7943 - accuracy: 0.6131\n",
            "Epoch 31: val_accuracy did not improve from 0.61190\n",
            "53/53 [==============================] - 37s 696ms/step - loss: 0.7943 - accuracy: 0.6131 - val_loss: 0.7941 - val_accuracy: 0.6119\n",
            "Epoch 32/50\n",
            "53/53 [==============================] - ETA: 0s - loss: 0.7876 - accuracy: 0.6131\n",
            "Epoch 32: val_accuracy did not improve from 0.61190\n",
            "53/53 [==============================] - 38s 712ms/step - loss: 0.7876 - accuracy: 0.6131 - val_loss: 0.7901 - val_accuracy: 0.6119\n",
            "Epoch 33/50\n",
            "53/53 [==============================] - ETA: 0s - loss: 0.7872 - accuracy: 0.6131\n",
            "Epoch 33: val_accuracy did not improve from 0.61190\n",
            "53/53 [==============================] - 39s 725ms/step - loss: 0.7872 - accuracy: 0.6131 - val_loss: 0.7870 - val_accuracy: 0.6119\n",
            "Epoch 34/50\n",
            "53/53 [==============================] - ETA: 0s - loss: 0.7772 - accuracy: 0.6131\n",
            "Epoch 34: val_accuracy did not improve from 0.61190\n",
            "53/53 [==============================] - 38s 717ms/step - loss: 0.7772 - accuracy: 0.6131 - val_loss: 0.7817 - val_accuracy: 0.6119\n",
            "Epoch 35/50\n",
            "53/53 [==============================] - ETA: 0s - loss: 0.7805 - accuracy: 0.6131\n",
            "Epoch 35: val_accuracy did not improve from 0.61190\n",
            "53/53 [==============================] - 38s 719ms/step - loss: 0.7805 - accuracy: 0.6131 - val_loss: 0.7798 - val_accuracy: 0.6119\n",
            "Epoch 36/50\n",
            "53/53 [==============================] - ETA: 0s - loss: 0.7729 - accuracy: 0.6131\n",
            "Epoch 36: val_accuracy did not improve from 0.61190\n",
            "53/53 [==============================] - 38s 718ms/step - loss: 0.7729 - accuracy: 0.6131 - val_loss: 0.7788 - val_accuracy: 0.6119\n",
            "Epoch 37/50\n",
            "53/53 [==============================] - ETA: 0s - loss: 0.7732 - accuracy: 0.6131\n",
            "Epoch 37: val_accuracy did not improve from 0.61190\n",
            "53/53 [==============================] - 38s 718ms/step - loss: 0.7732 - accuracy: 0.6131 - val_loss: 0.7723 - val_accuracy: 0.6119\n",
            "Epoch 38/50\n",
            "53/53 [==============================] - ETA: 0s - loss: 0.7647 - accuracy: 0.6131\n",
            "Epoch 38: val_accuracy did not improve from 0.61190\n",
            "53/53 [==============================] - 39s 720ms/step - loss: 0.7647 - accuracy: 0.6131 - val_loss: 0.7683 - val_accuracy: 0.6119\n",
            "Epoch 39/50\n",
            "53/53 [==============================] - ETA: 0s - loss: 0.7585 - accuracy: 0.6131\n",
            "Epoch 39: val_accuracy did not improve from 0.61190\n",
            "53/53 [==============================] - 39s 728ms/step - loss: 0.7585 - accuracy: 0.6131 - val_loss: 0.7649 - val_accuracy: 0.6119\n",
            "Epoch 40/50\n",
            "53/53 [==============================] - ETA: 0s - loss: 0.7517 - accuracy: 0.6131\n",
            "Epoch 40: val_accuracy did not improve from 0.61190\n",
            "53/53 [==============================] - 38s 718ms/step - loss: 0.7517 - accuracy: 0.6131 - val_loss: 0.7588 - val_accuracy: 0.6119\n",
            "Epoch 41/50\n",
            "53/53 [==============================] - ETA: 0s - loss: 0.7511 - accuracy: 0.6131\n",
            "Epoch 41: val_accuracy did not improve from 0.61190\n",
            "53/53 [==============================] - 38s 719ms/step - loss: 0.7511 - accuracy: 0.6131 - val_loss: 0.7568 - val_accuracy: 0.6119\n",
            "Epoch 42/50\n",
            "53/53 [==============================] - ETA: 0s - loss: 0.7428 - accuracy: 0.6131\n",
            "Epoch 42: val_accuracy did not improve from 0.61190\n",
            "53/53 [==============================] - 37s 700ms/step - loss: 0.7428 - accuracy: 0.6131 - val_loss: 0.7534 - val_accuracy: 0.6119\n",
            "Epoch 43/50\n",
            "53/53 [==============================] - ETA: 0s - loss: 0.7421 - accuracy: 0.6131\n",
            "Epoch 43: val_accuracy did not improve from 0.61190\n",
            "53/53 [==============================] - 38s 705ms/step - loss: 0.7421 - accuracy: 0.6131 - val_loss: 0.7509 - val_accuracy: 0.6119\n",
            "Epoch 44/50\n",
            "53/53 [==============================] - ETA: 0s - loss: 0.7395 - accuracy: 0.6131\n",
            "Epoch 44: val_accuracy did not improve from 0.61190\n",
            "53/53 [==============================] - 38s 717ms/step - loss: 0.7395 - accuracy: 0.6131 - val_loss: 0.7448 - val_accuracy: 0.6119\n",
            "Epoch 45/50\n",
            "53/53 [==============================] - ETA: 0s - loss: 0.7394 - accuracy: 0.6131\n",
            "Epoch 45: val_accuracy did not improve from 0.61190\n",
            "53/53 [==============================] - 38s 714ms/step - loss: 0.7394 - accuracy: 0.6131 - val_loss: 0.7404 - val_accuracy: 0.6119\n",
            "Epoch 46/50\n",
            "53/53 [==============================] - ETA: 0s - loss: 0.7403 - accuracy: 0.6131\n",
            "Epoch 46: val_accuracy did not improve from 0.61190\n",
            "53/53 [==============================] - 38s 710ms/step - loss: 0.7403 - accuracy: 0.6131 - val_loss: 0.7376 - val_accuracy: 0.6119\n",
            "Epoch 47/50\n",
            "53/53 [==============================] - ETA: 0s - loss: 0.7345 - accuracy: 0.6131\n",
            "Epoch 47: val_accuracy did not improve from 0.61190\n",
            "53/53 [==============================] - 38s 706ms/step - loss: 0.7345 - accuracy: 0.6131 - val_loss: 0.7356 - val_accuracy: 0.6119\n",
            "Epoch 48/50\n",
            "53/53 [==============================] - ETA: 0s - loss: 0.7235 - accuracy: 0.6155\n",
            "Epoch 48: val_accuracy did not improve from 0.61190\n",
            "53/53 [==============================] - 37s 698ms/step - loss: 0.7235 - accuracy: 0.6155 - val_loss: 0.7333 - val_accuracy: 0.6119\n",
            "Epoch 49/50\n",
            "53/53 [==============================] - ETA: 0s - loss: 0.7175 - accuracy: 0.6167\n",
            "Epoch 49: val_accuracy did not improve from 0.61190\n",
            "53/53 [==============================] - 38s 701ms/step - loss: 0.7175 - accuracy: 0.6167 - val_loss: 0.7271 - val_accuracy: 0.6119\n",
            "Epoch 50/50\n",
            "53/53 [==============================] - ETA: 0s - loss: 0.7182 - accuracy: 0.6214\n",
            "Epoch 50: val_accuracy did not improve from 0.61190\n",
            "53/53 [==============================] - 37s 709ms/step - loss: 0.7182 - accuracy: 0.6214 - val_loss: 0.7246 - val_accuracy: 0.6119\n",
            "Training time:  0:31:54.482325\n"
          ]
        }
      ],
      "source": [
        "checkpoint = ModelCheckpoint(filepath='/content/drive/MyDrive/Research Group UT SUT UoA/Technical Calculations/Results/ResNet50V2_Binary.hdf5', \n",
        "                               monitor='val_accuracy', verbose=1, save_best_only=True)\n",
        "\n",
        "callbacks = [checkpoint]\n",
        "\n",
        "start = datetime.now()\n",
        "\n",
        "model1_history=model1.fit(\n",
        "    train_set,\n",
        "  validation_data=test_set,\n",
        "  epochs=50,\n",
        "    callbacks=callbacks ,verbose=1)\n",
        "\n",
        "duration = datetime.now() - start\n",
        "print(\"Training time: \", duration)"
      ]
    },
    {
      "cell_type": "code",
      "execution_count": 78,
      "metadata": {
        "id": "2BXqoHQyJc2D",
        "colab": {
          "base_uri": "https://localhost:8080/",
          "height": 279
        },
        "outputId": "c7abafe7-b11d-4b85-99ad-2ebf564d410d"
      },
      "outputs": [
        {
          "output_type": "display_data",
          "data": {
            "text/plain": [
              "<Figure size 432x288 with 1 Axes>"
            ],
            "image/png": "[encoded data removed]"
          },
          "metadata": {
            "needs_background": "light"
          }
        }
      ],
      "source": [
        "test_loss=model1_history.history['val_loss']\n",
        "training_loss=model1_history.history['loss']\n",
        "epoch_count=range(1, len(test_loss)+1)\n",
        "plt.plot(epoch_count, training_loss, 'r-')\n",
        "plt.plot(epoch_count, test_loss, 'b-')\n",
        "minposs = test_loss.index(min(test_loss))+1 \n",
        "plt.axvline(minposs, linestyle='--', color='k',label='Minimum Test Loss')\n",
        "plt.xticks(np.arange(5, 51, 5))\n",
        "plt.legend(['Training Loss', 'Test Loss'])\n",
        "plt.xlabel(\"Epoch Number\")\n",
        "plt.ylabel(\"Loss\")\n",
        "plt.show()"
      ]
    },
    {
      "cell_type": "code",
      "execution_count": 79,
      "metadata": {
        "id": "v6TLi4BTJc2D"
      },
      "outputs": [],
      "source": [
        "network1 = load_model('/content/drive/MyDrive/Research Group UT SUT UoA/Technical Calculations/Results/ResNet50V2_Binary.hdf5')"
      ]
    },
    {
      "cell_type": "code",
      "execution_count": 80,
      "metadata": {
        "colab": {
          "base_uri": "https://localhost:8080/"
        },
        "id": "tj3VQAT2pJ65",
        "outputId": "6877f4fe-3320-4969-9ca7-7b58c895db8c"
      },
      "outputs": [
        {
          "output_type": "stream",
          "name": "stdout",
          "text": [
            "Found 420 images belonging to 2 classes.\n"
          ]
        }
      ],
      "source": [
        "test_set_evaluation = test_datagen.flow_from_directory(test_path,\n",
        "                                            target_size = (224, 224),\n",
        "                                            batch_size=1,\n",
        "                                            shuffle=False,\n",
        "                                            class_mode = 'categorical')"
      ]
    },
    {
      "cell_type": "code",
      "execution_count": 81,
      "metadata": {
        "id": "HIVWEc5GJc2D",
        "colab": {
          "base_uri": "https://localhost:8080/"
        },
        "outputId": "bb344852-91b0-47f9-e23a-24b1dce6d308"
      },
      "outputs": [
        {
          "output_type": "stream",
          "name": "stdout",
          "text": [
            "420/420 [==============================] - 12s 24ms/step - loss: 0.8763 - accuracy: 0.6119\n"
          ]
        },
        {
          "output_type": "execute_result",
          "data": {
            "text/plain": [
              "[0.8762637376785278, 0.6119047403335571]"
            ]
          },
          "metadata": {},
          "execution_count": 81
        }
      ],
      "source": [
        "network1.evaluate(test_set_evaluation, steps=len(test_set_evaluation))"
      ]
    },
    {
      "cell_type": "code",
      "execution_count": 82,
      "metadata": {
        "id": "ONc5cnNwJc2D",
        "colab": {
          "base_uri": "https://localhost:8080/"
        },
        "outputId": "72483337-e9e4-4582-96a7-83934b6a4ded"
      },
      "outputs": [
        {
          "output_type": "stream",
          "name": "stdout",
          "text": [
            "420/420 [==============================] - 9s 19ms/step\n"
          ]
        }
      ],
      "source": [
        "# Making Predictions\n",
        "predictions1=network1.predict(test_set_evaluation, steps=len(test_set_evaluation), verbose=1)\n",
        "preds1=np.argmax(predictions1, axis=1)"
      ]
    },
    {
      "cell_type": "code",
      "execution_count": 83,
      "metadata": {
        "id": "A6OfZYN8Jc2D",
        "colab": {
          "base_uri": "https://localhost:8080/",
          "height": 367
        },
        "outputId": "5fef943c-5f96-4306-88cb-b27c94636f69"
      },
      "outputs": [
        {
          "output_type": "execute_result",
          "data": {
            "text/plain": [
              "0.611904761904762"
            ]
          },
          "metadata": {},
          "execution_count": 83
        },
        {
          "output_type": "display_data",
          "data": {
            "text/plain": [
              "<Figure size 432x360 with 2 Axes>"
            ],
            "image/png": "[encoded data removed]"
          },
          "metadata": {
            "needs_background": "light"
          }
        }
      ],
      "source": [
        "# Creating the Confusion Matrix\n",
        "cf_matrix=confusion_matrix(test_set_evaluation.classes, preds1)\n",
        "ax=plt.figure(figsize=(6,5))\n",
        "ax=plt.subplot()\n",
        "sns.heatmap(cf_matrix, cmap='Blues', annot=True, linewidths=1, fmt = 'd', ax=ax)\n",
        "ax.set_xlabel('Predicted Class');ax.set_ylabel('True Class')\n",
        "ax.set_title('Confusion Matrix')\n",
        "ax.xaxis.set_ticklabels(['Non-Psoriasis', 'Psoriasis']); ax.yaxis.set_ticklabels(['Non-Psoriasis', 'Psoriasis'])\n",
        "from sklearn.metrics import accuracy_score\n",
        "accuracy_score(test_set_evaluation.classes, preds1)"
      ]
    },
    {
      "cell_type": "code",
      "execution_count": null,
      "metadata": {
        "id": "gY_fn052Jc2E"
      },
      "outputs": [],
      "source": [
        "model2 = ResNet101V2(input_tensor=input_tensor, weights='imagenet', include_top=False)\n",
        "for layer in model2.layers:\n",
        "  layer.tranable=True"
      ]
    },
    {
      "cell_type": "code",
      "execution_count": null,
      "metadata": {
        "id": "KgVYJuvxJc2E"
      },
      "outputs": [],
      "source": [
        "x = GlobalAveragePooling2D(name='Pooling')(model2.output)\n",
        "x = Flatten(name='flatten')(x)\n",
        "x=Dropout(0.5)(x)\n",
        "x = Dense(2,activation='softmax', name='fc2')(x)\n",
        "model2 = Model(inputs=input_tensor, outputs=x)"
      ]
    },
    {
      "cell_type": "code",
      "execution_count": null,
      "metadata": {
        "id": "6FKtpXPdJc2E"
      },
      "outputs": [],
      "source": [
        "model2.summary()"
      ]
    },
    {
      "cell_type": "code",
      "execution_count": null,
      "metadata": {
        "id": "j9mGfv_0Jc2E"
      },
      "outputs": [],
      "source": [
        "model2.compile(loss='binary_crossentropy',\n",
        "              optimizer=sgd,\n",
        "              metrics=['accuracy'])"
      ]
    },
    {
      "cell_type": "code",
      "execution_count": null,
      "metadata": {
        "id": "Po1MzzXjJc2E"
      },
      "outputs": [],
      "source": [
        "checkpoint = ModelCheckpoint(filepath='/content/drive/MyDrive/Research Group UT SUT UoA/Technical Calculations/Results/ResNet101V2_Binary.hdf5', \n",
        "                               monitor='val_accuracy', verbose=1, save_best_only=True)\n",
        "\n",
        "callbacks = [checkpoint]\n",
        "\n",
        "start = datetime.now()\n",
        "\n",
        "model2_history=model2.fit(\n",
        "    train_set,\n",
        "  validation_data=test_set,\n",
        "  epochs=50,\n",
        "    callbacks=callbacks ,verbose=1)\n",
        "\n",
        "duration = datetime.now() - start\n",
        "print(\"Training time: \", duration)"
      ]
    },
    {
      "cell_type": "code",
      "execution_count": null,
      "metadata": {
        "id": "EZ0puHhsJc2E"
      },
      "outputs": [],
      "source": [
        "network2 = load_model('/content/drive/MyDrive/Research Group UT SUT UoA/Technical Calculations/Results/ResNet101V2_Binary.hdf5')"
      ]
    },
    {
      "cell_type": "code",
      "execution_count": null,
      "metadata": {
        "id": "_MHNml4RJc2E"
      },
      "outputs": [],
      "source": [
        "test_loss=model2_history.history['val_loss']\n",
        "training_loss=model2_history.history['loss']\n",
        "epoch_count=range(1, len(test_loss)+1)\n",
        "plt.plot(epoch_count, training_loss, 'r-')\n",
        "plt.plot(epoch_count, test_loss, 'b-')\n",
        "minposs = test_loss.index(min(test_loss))+1 \n",
        "plt.axvline(minposs, linestyle='--', color='k',label='Minimum Test Loss')\n",
        "plt.xticks(np.arange(5, 51, 5))\n",
        "plt.legend(['Training Loss', 'Test Loss'])\n",
        "plt.xlabel(\"Epoch Number\")\n",
        "plt.ylabel(\"Loss\")\n",
        "plt.show()"
      ]
    },
    {
      "cell_type": "code",
      "execution_count": null,
      "metadata": {
        "id": "VOBE7OGOJc2F"
      },
      "outputs": [],
      "source": [
        "network2.evaluate(test_set_evaluation, steps=len(test_set_evaluation))"
      ]
    },
    {
      "cell_type": "code",
      "execution_count": null,
      "metadata": {
        "id": "s2TsVWbUJc2F"
      },
      "outputs": [],
      "source": [
        "# Making Predictions\n",
        "predictions2=network2.predict(test_set_evaluation, steps=len(test_set_evaluation), verbose=1)\n",
        "preds2=np.argmax(predictions2, axis=1)"
      ]
    },
    {
      "cell_type": "code",
      "execution_count": null,
      "metadata": {
        "id": "d1zye_joJc2F"
      },
      "outputs": [],
      "source": [
        "# Creating the Confusion Matrix\n",
        "cf_matrix=confusion_matrix(test_set_evaluation.classes, preds2)\n",
        "ax=plt.figure(figsize=(6,5))\n",
        "ax=plt.subplot()\n",
        "sns.heatmap(cf_matrix, cmap='Blues', annot=True, linewidths=1, fmt = 'd', ax=ax)\n",
        "ax.set_xlabel('Predicted Class');ax.set_ylabel('True Class')\n",
        "ax.set_title('Confusion Matrix')\n",
        "ax.xaxis.set_ticklabels(['Non-Psoriasis', 'Psoriasis']); ax.yaxis.set_ticklabels(['Non-Psoriasis', 'Psoriasis'])\n",
        "from sklearn.metrics import accuracy_score\n",
        "accuracy_score(test_set_evaluation.classes, preds2)"
      ]
    },
    {
      "cell_type": "code",
      "execution_count": null,
      "metadata": {
        "id": "EXLcY1PUJc2F"
      },
      "outputs": [],
      "source": [
        "model3 = ResNet152V2(input_tensor=input_tensor, weights='imagenet', include_top=False)\n",
        "for layer in model3.layers:\n",
        "  layer.tranable=True"
      ]
    },
    {
      "cell_type": "code",
      "execution_count": null,
      "metadata": {
        "id": "o3d9UeCEJc2F"
      },
      "outputs": [],
      "source": [
        "x = GlobalAveragePooling2D(name='Pooling')(model3.output)\n",
        "x = Flatten(name='flatten')(x)\n",
        "x=Dropout(0.5)(x)\n",
        "x = Dense(2,activation='softmax', name='fc2')(x)\n",
        "model3 = Model(inputs=input_tensor, outputs=x)"
      ]
    },
    {
      "cell_type": "code",
      "execution_count": null,
      "metadata": {
        "id": "ujpMD_7JJc2F"
      },
      "outputs": [],
      "source": [
        "model3.summary()"
      ]
    },
    {
      "cell_type": "code",
      "execution_count": null,
      "metadata": {
        "id": "_dRwQB2XJc2F"
      },
      "outputs": [],
      "source": [
        "model3.compile(loss='binary_crossentropy',\n",
        "              optimizer=sgd,\n",
        "              metrics=['accuracy'])"
      ]
    },
    {
      "cell_type": "code",
      "execution_count": null,
      "metadata": {
        "id": "6hOzitR3Jc2F"
      },
      "outputs": [],
      "source": [
        "checkpoint = ModelCheckpoint(filepath='/content/drive/MyDrive/Research Group UT SUT UoA/Technical Calculations/Results/ResNet152V2_Binary.hdf5', \n",
        "                               monitor='val_accuracy', verbose=1, save_best_only=True)\n",
        "\n",
        "callbacks = [checkpoint]\n",
        "\n",
        "start = datetime.now()\n",
        "\n",
        "model3_history=model3.fit(\n",
        "    train_set,\n",
        "  validation_data=test_set,\n",
        "  epochs=50,\n",
        "    callbacks=callbacks ,verbose=1)\n",
        "\n",
        "duration = datetime.now() - start\n",
        "print(\"Training time: \", duration)"
      ]
    },
    {
      "cell_type": "code",
      "execution_count": null,
      "metadata": {
        "id": "QV-z4tGcJc2G"
      },
      "outputs": [],
      "source": [
        "network3 = load_model('/content/drive/MyDrive/Research Group UT SUT UoA/Technical Calculations/Results/ResNet152V2_Binary.hdf5')"
      ]
    },
    {
      "cell_type": "code",
      "execution_count": null,
      "metadata": {
        "id": "goQNFLJUJc2G"
      },
      "outputs": [],
      "source": [
        "test_loss=model3_history.history['val_loss']\n",
        "training_loss=model3_history.history['loss']\n",
        "epoch_count=range(1, len(test_loss)+1)\n",
        "plt.plot(epoch_count, training_loss, 'r-')\n",
        "plt.plot(epoch_count, test_loss, 'b-')\n",
        "minposs = test_loss.index(min(test_loss))+1 \n",
        "plt.axvline(minposs, linestyle='--', color='k',label='Minimum Test Loss')\n",
        "plt.xticks(np.arange(5, 51, 5))\n",
        "plt.legend(['Training Loss', 'Test Loss'])\n",
        "plt.xlabel(\"Epoch Number\")\n",
        "plt.ylabel(\"Loss\")\n",
        "plt.show()"
      ]
    },
    {
      "cell_type": "code",
      "execution_count": null,
      "metadata": {
        "id": "b-M_mgwjJc2G"
      },
      "outputs": [],
      "source": [
        "network3.evaluate(test_set_evaluation, steps=len(test_set_evaluation))"
      ]
    },
    {
      "cell_type": "code",
      "execution_count": null,
      "metadata": {
        "id": "_9_I8FthJc2G"
      },
      "outputs": [],
      "source": [
        "# Making Predictions\n",
        "predictions3=network3.predict(test_set_evaluation, steps=len(test_set_evaluation), verbose=1)\n",
        "preds3=np.argmax(predictions3, axis=1)"
      ]
    },
    {
      "cell_type": "code",
      "execution_count": null,
      "metadata": {
        "id": "U2rcOI9NJc2G"
      },
      "outputs": [],
      "source": [
        "# Creating the Confusion Matrix\n",
        "cf_matrix=confusion_matrix(test_set_evaluation.classes, preds3)\n",
        "ax=plt.figure(figsize=(6,5))\n",
        "ax=plt.subplot()\n",
        "sns.heatmap(cf_matrix, cmap='Blues', annot=True, linewidths=1, fmt = 'd', ax=ax)\n",
        "ax.set_xlabel('Predicted Class');ax.set_ylabel('True Class')\n",
        "ax.set_title('Confusion Matrix')\n",
        "ax.xaxis.set_ticklabels(['Non-Psoriasis', 'Psoriasis']); ax.yaxis.set_ticklabels(['Non-Psoriasis', 'Psoriasis'])\n",
        "from sklearn.metrics import accuracy_score\n",
        "accuracy_score(test_set_evaluation.classes, preds3)"
      ]
    },
    {
      "cell_type": "code",
      "execution_count": null,
      "metadata": {
        "id": "b4lkMJ5iJc2G"
      },
      "outputs": [],
      "source": [
        "networks = [network1, network2, network3]\n",
        "preds_1 = [network.predict(test_set_evaluation) for network in networks]\n",
        "preds_1=np.array(preds_1)\n",
        "\n",
        "import pandas as pd\n",
        "df = pd.DataFrame([])\n",
        "\n",
        "for w1 in range(0, 5):\n",
        "    for w2 in range(0,5):\n",
        "        for w3 in range(0,5):\n",
        "            wts = [w1/10.,w2/10.,w3/10.]\n",
        "            wted_preds1 = np.tensordot(preds_1, wts, axes=((0),(0)))\n",
        "            wted_ensemble_pred = np.argmax(wted_preds1, axis=1)\n",
        "            weighted_accuracy = accuracy_score(test_set.classes, wted_ensemble_pred)\n",
        "            df = df.append(pd.DataFrame({'wt1':wts[0],'wt2':wts[1], \n",
        "                                          'wt3':wts[2], 'acc':weighted_accuracy*100}, index=[0]), ignore_index=True)\n",
        "            \n",
        "max_acc_row = df.iloc[df['acc'].idxmax()]\n",
        "print(\"Max accuracy of \", max_acc_row[3], \" obained with w1=\", max_acc_row[0],\n",
        "      \" w2=\", max_acc_row[1], \" and w3=\", max_acc_row[2])    "
      ]
    },
    {
      "cell_type": "code",
      "execution_count": null,
      "metadata": {
        "id": "cJ1uz7HWJc2H"
      },
      "outputs": [],
      "source": [
        "networks = [network1, network2, network3]\n",
        "preds = [network.predict(test_set_evaluation) for network in networks]\n",
        "preds=np.array(preds)\n",
        "ideal_weights = [max_acc_row[0], max_acc_row[1], max_acc_row[2]] \n",
        "np.save('/content/drive/MyDrive/Research Group UT SUT UoA/Technical Calculations/Results/weights_binary.npy', ideal_weights)\n",
        "#Use tensordot to sum the products of all elements over specified axes.\n",
        "ideal_weighted_preds = np.tensordot(preds, ideal_weights, axes=((0),(0)))\n",
        "ideal_weighted_ensemble_prediction = np.argmax(ideal_weighted_preds, axis=1)\n",
        "\n",
        "ideal_weighted_accuracy = accuracy_score(test_set.classes, ideal_weighted_ensemble_prediction)"
      ]
    },
    {
      "cell_type": "code",
      "execution_count": null,
      "metadata": {
        "id": "B7QFT0prJc2H"
      },
      "outputs": [],
      "source": [
        "cf_matrix=confusion_matrix(test_set_evaluation.classes, ideal_weighted_ensemble_prediction)\n",
        "ax=plt.figure(figsize=(6,5))\n",
        "ax=plt.subplot()\n",
        "sns.heatmap(cf_matrix, cmap='Blues', annot=True, linewidths=1, fmt = 'd', ax=ax)\n",
        "ax.set_xlabel('Predicted Class');ax.set_ylabel('True Class')\n",
        "ax.set_title('Confusion Matrix')\n",
        "ax.xaxis.set_ticklabels(['Non-Psoriasis', 'Psoriasis']); ax.yaxis.set_ticklabels(['Non-Psoriasis', 'Psoriasis'])"
      ]
    },
    {
      "cell_type": "markdown",
      "metadata": {
        "id": "V9bV60HK1qYE"
      },
      "source": [
        "### **In this part, the multi-class classification of variants of psoriasis is performed.**"
      ]
    },
    {
      "cell_type": "code",
      "execution_count": null,
      "metadata": {
        "id": "a3Q_R-37g61T"
      },
      "outputs": [],
      "source": [
        "train_path = '/content/drive/MyDrive/Research Group UT SUT UoA/Technical Calculations/Multi Class Dataset/train'\n",
        "test_path = '/content/drive/MyDrive/Research Group UT SUT UoA/Technical Calculations/Multi Class Dataset/test'"
      ]
    },
    {
      "cell_type": "code",
      "execution_count": null,
      "metadata": {
        "id": "HgQ3AHe-g63j"
      },
      "outputs": [],
      "source": [
        "folders = glob('/content/drive/MyDrive/Research Group UT SUT UoA/Technical Calculations/Multi Class Dataset/train/*')\n",
        "print(len(folders))"
      ]
    },
    {
      "cell_type": "code",
      "execution_count": null,
      "metadata": {
        "id": "gwRYohi_nsrr"
      },
      "outputs": [],
      "source": [
        "train_datagen = ImageDataGenerator(\n",
        "    rescale=1./255,\n",
        "    shear_range=0.2,\n",
        "    zoom_range=0.2,\n",
        "    horizontal_flip=True)"
      ]
    },
    {
      "cell_type": "code",
      "execution_count": null,
      "metadata": {
        "id": "tHihhTN1nsuD"
      },
      "outputs": [],
      "source": [
        "test_datagen = ImageDataGenerator(\n",
        "    rescale=1./255)"
      ]
    },
    {
      "cell_type": "code",
      "execution_count": null,
      "metadata": {
        "id": "N_2M_S-ZnswM"
      },
      "outputs": [],
      "source": [
        "train_set = train_datagen.flow_from_directory(train_path,\n",
        "                                                target_size = (224, 224),\n",
        "                                                batch_size=32,\n",
        "                                \n",
        "                                                 class_mode = 'categorical')"
      ]
    },
    {
      "cell_type": "code",
      "execution_count": null,
      "metadata": {
        "id": "zeWiVoL3nxFG"
      },
      "outputs": [],
      "source": [
        "test_set = test_datagen.flow_from_directory(test_path,\n",
        "                                            target_size = (224, 224),\n",
        "                                            shuffle=False,\n",
        "                                            batch_size=32,\n",
        "                                            class_mode = 'categorical')"
      ]
    },
    {
      "cell_type": "code",
      "execution_count": null,
      "metadata": {
        "id": "zqWkgwQOk28M"
      },
      "outputs": [],
      "source": [
        "input_tensor=Input(shape=(224,224,3))"
      ]
    },
    {
      "cell_type": "code",
      "execution_count": null,
      "metadata": {
        "id": "MxbGk017g6-T"
      },
      "outputs": [],
      "source": [
        "model1 = ResNet50V2(input_tensor=input_tensor, weights='imagenet', include_top=False)\n",
        "for layer in model1.layers:\n",
        "  layer.tranable=True"
      ]
    },
    {
      "cell_type": "code",
      "execution_count": null,
      "metadata": {
        "id": "3gYmtVWHmGPo"
      },
      "outputs": [],
      "source": [
        "x = GlobalAveragePooling2D(name='Pooling')(model1.output)\n",
        "x = Flatten(name='flatten')(x)\n",
        "x=Dropout(0.5)(x)\n",
        "x = Dense(500, kernel_regularizer=regularizers.l2(0.001),activation='softmax', name='fc1')(x)\n",
        "x=Dropout(0.5)(x)\n",
        "x = Dense(2,activation='softmax', name='fc2')(x)\n",
        "model1 = Model(inputs=input_tensor, outputs=x)"
      ]
    },
    {
      "cell_type": "code",
      "execution_count": null,
      "metadata": {
        "id": "JFB2YRWEg7Ad"
      },
      "outputs": [],
      "source": [
        "model1.summary()"
      ]
    },
    {
      "cell_type": "code",
      "execution_count": null,
      "metadata": {
        "id": "5T7t7FtHg7Cu"
      },
      "outputs": [],
      "source": [
        "model1.compile(loss='categorical_crossentropy',\n",
        "              optimizer=sgd,\n",
        "              metrics=['accuracy'])"
      ]
    },
    {
      "cell_type": "code",
      "execution_count": null,
      "metadata": {
        "id": "3lpUgQcZg7FL"
      },
      "outputs": [],
      "source": [
        "checkpoint = ModelCheckpoint(filepath='/content/drive/MyDrive/Research Group UT SUT UoA/Technical Calculations/Results/ResNet50V2_MultiClass.hdf5', \n",
        "                               monitor='val_accuracy', verbose=1, save_best_only=True)\n",
        "\n",
        "callbacks = [checkpoint]\n",
        "\n",
        "start = datetime.now()\n",
        "\n",
        "model1_history=model1.fit(\n",
        "    train_set,\n",
        "  validation_data=test_set,\n",
        "  epochs=50,\n",
        "    callbacks=callbacks ,verbose=1)\n",
        "\n",
        "duration = datetime.now() - start\n",
        "print(\"Training time: \", duration)"
      ]
    },
    {
      "cell_type": "code",
      "execution_count": null,
      "metadata": {
        "id": "agQuEkDng7IO"
      },
      "outputs": [],
      "source": [
        "test_loss=model1_history.history['val_loss']\n",
        "training_loss=model1_history.history['loss']\n",
        "epoch_count=range(1, len(test_loss)+1)\n",
        "plt.plot(epoch_count, training_loss, 'r-')\n",
        "plt.plot(epoch_count, test_loss, 'b-')\n",
        "minposs = test_loss.index(min(test_loss))+1 \n",
        "plt.axvline(minposs, linestyle='--', color='k',label='Minimum Test Loss')\n",
        "plt.xticks(np.arange(5, 51, 5))\n",
        "plt.legend(['Training Loss', 'Test Loss'])\n",
        "plt.xlabel(\"Epoch Number\")\n",
        "plt.ylabel(\"Loss\")\n",
        "plt.show()"
      ]
    },
    {
      "cell_type": "code",
      "execution_count": null,
      "metadata": {
        "id": "iQZDv4lyg7Kv"
      },
      "outputs": [],
      "source": [
        "network1 = load_model('/content/drive/MyDrive/Research Group UT SUT UoA/Technical Calculations/Results/ResNet50V2_MultiClass.hdf5')"
      ]
    },
    {
      "cell_type": "code",
      "source": [
        "test_set_evaluation = test_datagen.flow_from_directory(test_path,\n",
        "                                            target_size = (224, 224),\n",
        "                                            batch_size=1,\n",
        "                                            shuffle=False,\n",
        "                                            class_mode = 'categorical')"
      ],
      "metadata": {
        "id": "5zFKpaNG25x6"
      },
      "execution_count": null,
      "outputs": []
    },
    {
      "cell_type": "code",
      "execution_count": null,
      "metadata": {
        "id": "VD2xZfVnnYkm"
      },
      "outputs": [],
      "source": [
        "test_set_evaluation = test_datagen.flow_from_directory(test_path,\n",
        "                                            target_size = (224, 224),\n",
        "                                            batch_size=1,\n",
        "                                            shuffle=False,\n",
        "                                            class_mode = 'categorical')\n",
        "network1.evaluate(test_set_evaluation, steps=len(test_set_evaluation))"
      ]
    },
    {
      "cell_type": "code",
      "execution_count": null,
      "metadata": {
        "id": "3EKnueRuvIm7"
      },
      "outputs": [],
      "source": [
        "# Making Predictions\n",
        "predictions1=network1.predict(test_set_evaluation, steps=len(test_set_evaluation), verbose=1)\n",
        "preds1=np.argmax(predictions1, axis=1)"
      ]
    },
    {
      "cell_type": "code",
      "execution_count": null,
      "metadata": {
        "id": "t9zuubdEvOEr"
      },
      "outputs": [],
      "source": [
        "# Creating the Confusion Matrix\n",
        "cf_matrix=confusion_matrix(test_set_evaluation.classes, preds1)\n",
        "ax=plt.figure(figsize=(12,10))\n",
        "ax=plt.subplot()\n",
        "sns.heatmap(cf_matrix, cmap='Blues', annot=True, linewidths=1, fmt = 'd', ax=ax)\n",
        "ax.set_xlabel('Predicted Class');ax.set_ylabel('True Class')\n",
        "ax.set_title('Confusion Matrix')\n",
        "ax.xaxis.set_ticklabels(['Erythrodermic', 'Guttate', 'Inverse', 'Nail', 'Plaque', 'Psoriatic Arthritis', 'Pustular']); ax.yaxis.set_ticklabels(['Erythrodermic', 'Guttate', 'Inverse', 'Nail', 'Plaque', 'Psoriatic Arthritis', 'Pustular'])\n",
        "from sklearn.metrics import accuracy_score\n",
        "accuracy_score(test_set_evaluation.classes, preds1)"
      ]
    },
    {
      "cell_type": "code",
      "execution_count": null,
      "metadata": {
        "id": "xdG9f8c1tZoZ"
      },
      "outputs": [],
      "source": [
        "model2 = ResNet101V2(input_tensor=input_tensor, weights='imagenet', include_top=False)\n",
        "for layer in model2.layers:\n",
        "  layer.tranable=True"
      ]
    },
    {
      "cell_type": "code",
      "execution_count": null,
      "metadata": {
        "id": "5pi1xeoVtZ0q"
      },
      "outputs": [],
      "source": [
        "x = GlobalAveragePooling2D(name='Pooling')(model2.output)\n",
        "x = Flatten(name='flatten')(x)\n",
        "x=Dropout(0.5)(x)\n",
        "x = Dense(500, kernel_regularizer=regularizers.l2(0.001),activation='softmax', name='fc1')(x)\n",
        "x=Dropout(0.5)(x)\n",
        "x = Dense(2,activation='softmax', name='fc2')(x)\n",
        "model2 = Model(inputs=input_tensor, outputs=x)"
      ]
    },
    {
      "cell_type": "code",
      "execution_count": null,
      "metadata": {
        "id": "ehqazEejtZ2y"
      },
      "outputs": [],
      "source": [
        "model2.summary()"
      ]
    },
    {
      "cell_type": "code",
      "execution_count": null,
      "metadata": {
        "id": "pbYMTfoitZ45"
      },
      "outputs": [],
      "source": [
        "model2.compile(loss='categorical_crossentropy',\n",
        "              optimizer=sgd,\n",
        "              metrics=['accuracy'])"
      ]
    },
    {
      "cell_type": "code",
      "execution_count": null,
      "metadata": {
        "id": "8b3kKIIbtZ7C"
      },
      "outputs": [],
      "source": [
        "checkpoint = ModelCheckpoint(filepath='/content/drive/MyDrive/Research Group UT SUT UoA/Technical Calculations/Results/ResNet101V2_MultiClass.hdf5', \n",
        "                               monitor='val_accuracy', verbose=1, save_best_only=True)\n",
        "\n",
        "callbacks = [checkpoint]\n",
        "\n",
        "start = datetime.now()\n",
        "\n",
        "model2_history=model2.fit(\n",
        "    train_set,\n",
        "  validation_data=test_set,\n",
        "  epochs=50,\n",
        "    callbacks=callbacks ,verbose=1)\n",
        "\n",
        "duration = datetime.now() - start\n",
        "print(\"Training time: \", duration)"
      ]
    },
    {
      "cell_type": "code",
      "execution_count": null,
      "metadata": {
        "id": "N-yXLHk_tZ9X"
      },
      "outputs": [],
      "source": [
        "network2 = load_model('/content/drive/MyDrive/Research Group UT SUT UoA/Technical Calculations/Results/ResNet101V2_MultiClass.hdf5')"
      ]
    },
    {
      "cell_type": "code",
      "execution_count": null,
      "metadata": {
        "id": "p-Q0F6dBtZ_p"
      },
      "outputs": [],
      "source": [
        "test_loss=model2_history.history['val_loss']\n",
        "training_loss=model2_history.history['loss']\n",
        "epoch_count=range(1, len(test_loss)+1)\n",
        "plt.plot(epoch_count, training_loss, 'r-')\n",
        "plt.plot(epoch_count, test_loss, 'b-')\n",
        "minposs = test_loss.index(min(test_loss))+1 \n",
        "plt.axvline(minposs, linestyle='--', color='k',label='Minimum Test Loss')\n",
        "plt.xticks(np.arange(5, 51, 5))\n",
        "plt.legend(['Training Loss', 'Test Loss'])\n",
        "plt.xlabel(\"Epoch Number\")\n",
        "plt.ylabel(\"Loss\")\n",
        "plt.show()"
      ]
    },
    {
      "cell_type": "code",
      "execution_count": null,
      "metadata": {
        "id": "-43PXFVRtaCB"
      },
      "outputs": [],
      "source": [
        "network2.evaluate(test_set_evaluation, steps=len(test_set_evaluation))"
      ]
    },
    {
      "cell_type": "code",
      "execution_count": null,
      "metadata": {
        "id": "r6xNfaS_vAF8"
      },
      "outputs": [],
      "source": [
        "# Making Predictions\n",
        "predictions2=network2.predict(test_set_evaluation, steps=len(test_set_evaluation), verbose=1)\n",
        "preds2=np.argmax(predictions2, axis=1)"
      ]
    },
    {
      "cell_type": "code",
      "execution_count": null,
      "metadata": {
        "id": "88SA1KSIvqJE"
      },
      "outputs": [],
      "source": [
        "# Creating the Confusion Matrix\n",
        "cf_matrix=confusion_matrix(test_set_evaluation.classes, preds2)\n",
        "ax=plt.figure(figsize=(12,10))\n",
        "ax=plt.subplot()\n",
        "sns.heatmap(cf_matrix, cmap='Blues', annot=True, linewidths=1, fmt = 'd', ax=ax)\n",
        "ax.set_xlabel('Predicted Class');ax.set_ylabel('True Class')\n",
        "ax.set_title('Confusion Matrix')\n",
        "ax.xaxis.set_ticklabels(['Erythrodermic', 'Guttate', 'Inverse', 'Nail', 'Plaque', 'Psoriatic Arthritis', 'Pustular']); ax.yaxis.set_ticklabels(['Erythrodermic', 'Guttate', 'Inverse', 'Nail', 'Plaque', 'Psoriatic Arthritis', 'Pustular'])\n",
        "from sklearn.metrics import accuracy_score\n",
        "accuracy_score(test_set_evaluation.classes, preds2)"
      ]
    },
    {
      "cell_type": "code",
      "execution_count": null,
      "metadata": {
        "id": "YHh674zpvqLS"
      },
      "outputs": [],
      "source": [
        "model3 = ResNet152V2(input_tensor=input_tensor, weights='imagenet', include_top=False)\n",
        "for layer in model3.layers:\n",
        "  layer.tranable=True"
      ]
    },
    {
      "cell_type": "code",
      "execution_count": null,
      "metadata": {
        "id": "901BI8h6wBji"
      },
      "outputs": [],
      "source": [
        "x = GlobalAveragePooling2D(name='Pooling')(model3.output)\n",
        "x = Flatten(name='flatten')(x)\n",
        "x=Dropout(0.5)(x)\n",
        "x = Dense(500, kernel_regularizer=regularizers.l2(0.001),activation='softmax', name='fc1')(x)\n",
        "x=Dropout(0.5)(x)\n",
        "x = Dense(2,activation='softmax', name='fc2')(x)\n",
        "model3 = Model(inputs=input_tensor, outputs=x)"
      ]
    },
    {
      "cell_type": "code",
      "execution_count": null,
      "metadata": {
        "id": "sDRxuTcHwBl4"
      },
      "outputs": [],
      "source": [
        "model3.summary()"
      ]
    },
    {
      "cell_type": "code",
      "execution_count": null,
      "metadata": {
        "id": "dgXnw-IDwBoc"
      },
      "outputs": [],
      "source": [
        "model3.compile(loss='categorical_crossentropy',\n",
        "              optimizer=sgd,\n",
        "              metrics=['accuracy'])"
      ]
    },
    {
      "cell_type": "code",
      "execution_count": null,
      "metadata": {
        "id": "KrK3bphLvqNt"
      },
      "outputs": [],
      "source": [
        "checkpoint = ModelCheckpoint(filepath='/content/drive/MyDrive/Research Group UT SUT UoA/Technical Calculations/Results/ResNet152V2_MultiClass.hdf5', \n",
        "                               monitor='val_accuracy', verbose=1, save_best_only=True)\n",
        "\n",
        "callbacks = [checkpoint]\n",
        "\n",
        "start = datetime.now()\n",
        "\n",
        "model3_history=model3.fit(\n",
        "    train_set,\n",
        "  validation_data=test_set,\n",
        "  epochs=50,\n",
        "    callbacks=callbacks ,verbose=1)\n",
        "\n",
        "duration = datetime.now() - start\n",
        "print(\"Training time: \", duration)"
      ]
    },
    {
      "cell_type": "code",
      "execution_count": null,
      "metadata": {
        "id": "SbI-VtJ7wM1r"
      },
      "outputs": [],
      "source": [
        "network3 = load_model('/content/drive/MyDrive/Research Group UT SUT UoA/Technical Calculations/Results/ResNet152V2_MultiClass.hdf5')"
      ]
    },
    {
      "cell_type": "code",
      "execution_count": null,
      "metadata": {
        "id": "Lq4fMNPSwM4D"
      },
      "outputs": [],
      "source": [
        "test_loss=model3_history.history['val_loss']\n",
        "training_loss=model3_history.history['loss']\n",
        "epoch_count=range(1, len(test_loss)+1)\n",
        "plt.plot(epoch_count, training_loss, 'r-')\n",
        "plt.plot(epoch_count, test_loss, 'b-')\n",
        "minposs = test_loss.index(min(test_loss))+1 \n",
        "plt.axvline(minposs, linestyle='--', color='k',label='Minimum Test Loss')\n",
        "plt.xticks(np.arange(5, 51, 5))\n",
        "plt.legend(['Training Loss', 'Test Loss'])\n",
        "plt.xlabel(\"Epoch Number\")\n",
        "plt.ylabel(\"Loss\")\n",
        "plt.show()"
      ]
    },
    {
      "cell_type": "code",
      "execution_count": null,
      "metadata": {
        "id": "FtlvC6HYwM57"
      },
      "outputs": [],
      "source": [
        "network3.evaluate(test_set_evaluation, steps=len(test_set_evaluation))"
      ]
    },
    {
      "cell_type": "code",
      "execution_count": null,
      "metadata": {
        "id": "V1brTaIFwtpo"
      },
      "outputs": [],
      "source": [
        "# Making Predictions\n",
        "predictions3=network3.predict(test_set_evaluation, steps=len(test_set_evaluation), verbose=1)\n",
        "preds3=np.argmax(predictions3, axis=1)"
      ]
    },
    {
      "cell_type": "code",
      "execution_count": null,
      "metadata": {
        "id": "JIc19t8lwtus"
      },
      "outputs": [],
      "source": [
        "# Creating the Confusion Matrix\n",
        "cf_matrix=confusion_matrix(test_set_evaluation.classes, preds3)\n",
        "ax=plt.figure(figsize=(12,10))\n",
        "ax=plt.subplot()\n",
        "sns.heatmap(cf_matrix, cmap='Blues', annot=True, linewidths=1, fmt = 'd', ax=ax)\n",
        "ax.set_xlabel('Predicted Class');ax.set_ylabel('True Class')\n",
        "ax.set_title('Confusion Matrix')\n",
        "ax.xaxis.set_ticklabels(['Erythrodermic', 'Guttate', 'Inverse', 'Nail', 'Plaque', 'Psoriatic Arthritis', 'Pustular']); ax.yaxis.set_ticklabels(['Erythrodermic', 'Guttate', 'Inverse', 'Nail', 'Plaque', 'Psoriatic Arthritis', 'Pustular'])\n",
        "from sklearn.metrics import accuracy_score\n",
        "accuracy_score(test_set_evaluation.classes, preds3)"
      ]
    },
    {
      "cell_type": "code",
      "execution_count": null,
      "metadata": {
        "id": "vYFGLdNlwtwo"
      },
      "outputs": [],
      "source": [
        "networks = [network1, network2, network3]\n",
        "preds_1 = [network.predict(test_set_evaluation) for network in networks]\n",
        "preds_1=np.array(preds_1)\n",
        "\n",
        "import pandas as pd\n",
        "df = pd.DataFrame([])\n",
        "\n",
        "for w1 in range(0, 5):\n",
        "    for w2 in range(0,5):\n",
        "        for w3 in range(0,5):\n",
        "            wts = [w1/10.,w2/10.,w3/10.]\n",
        "            wted_preds1 = np.tensordot(preds_1, wts, axes=((0),(0)))\n",
        "            wted_ensemble_pred = np.argmax(wted_preds1, axis=1)\n",
        "            weighted_accuracy = accuracy_score(test_set.classes, wted_ensemble_pred)\n",
        "            df = df.append(pd.DataFrame({'wt1':wts[0],'wt2':wts[1], \n",
        "                                          'wt3':wts[2], 'acc':weighted_accuracy*100}, index=[0]), ignore_index=True)\n",
        "            \n",
        "max_acc_row = df.iloc[df['acc'].idxmax()]\n",
        "print(\"Max accuracy of \", max_acc_row[3], \" obained with w1=\", max_acc_row[0],\n",
        "      \" w2=\", max_acc_row[1], \" and w3=\", max_acc_row[2])    "
      ]
    },
    {
      "cell_type": "code",
      "execution_count": null,
      "metadata": {
        "id": "hdeD-z38wty6"
      },
      "outputs": [],
      "source": [
        "networks = [network1, network2, network3]\n",
        "preds = [network.predict(test_set_evaluation) for network in networks]\n",
        "preds=np.array(preds)\n",
        "ideal_weights = [max_acc_row[0], max_acc_row[1], max_acc_row[2]] \n",
        "np.save('/content/drive/MyDrive/Research Group UT SUT UoA/Technical Calculations/Results/weights_MultiClass.npy', ideal_weights)\n",
        "#Use tensordot to sum the products of all elements over specified axes.\n",
        "ideal_weighted_preds = np.tensordot(preds, ideal_weights, axes=((0),(0)))\n",
        "ideal_weighted_ensemble_prediction = np.argmax(ideal_weighted_preds, axis=1)\n",
        "\n",
        "ideal_weighted_accuracy = accuracy_score(test_set.classes, ideal_weighted_ensemble_prediction)"
      ]
    },
    {
      "cell_type": "code",
      "execution_count": null,
      "metadata": {
        "id": "0TPj2niRyJda"
      },
      "outputs": [],
      "source": [
        "cf_matrix=confusion_matrix(test_set_evaluation.classes, ideal_weighted_ensemble_prediction)\n",
        "ax=plt.figure(figsize=(12,10))\n",
        "ax=plt.subplot()\n",
        "sns.heatmap(cf_matrix, cmap='Blues', annot=True, linewidths=1, fmt = 'd', ax=ax)\n",
        "ax.set_xlabel('Predicted Class');ax.set_ylabel('True Class')\n",
        "ax.set_title('Confusion Matrix')\n",
        "ax.xaxis.set_ticklabels(['Erythrodermic', 'Guttate', 'Inverse', 'Nail', 'Plaque', 'Psoriatic Arthritis', 'Pustular']); ax.yaxis.set_ticklabels(['Erythrodermic', 'Guttate', 'Inverse', 'Nail', 'Plaque', 'Psoriatic Arthritis', 'Pustular'])"
      ]
    }
  ],
  "metadata": {
    "accelerator": "GPU",
    "colab": {
      "collapsed_sections": [],
      "name": "Model.ipynb",
      "provenance": []
    },
    "kernelspec": {
      "display_name": "Python 3",
      "name": "python3"
    },
    "language_info": {
      "name": "python"
    }
  },
  "nbformat": 4,
  "nbformat_minor": 0
}