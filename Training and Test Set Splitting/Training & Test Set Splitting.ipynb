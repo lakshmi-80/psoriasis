{
  "nbformat": 4,
  "nbformat_minor": 0,
  "metadata": {
    "colab": {
      "name": "Making Training & Test Sets.ipynb",
      "provenance": [],
      "collapsed_sections": []
    },
    "kernelspec": {
      "name": "python3",
      "display_name": "Python 3"
    },
    "language_info": {
      "name": "python"
    },
    "accelerator": "GPU"
  },
  "cells": [
    {
      "cell_type": "code",
      "metadata": {
        "id": "o2-QquBK0u_S"
      },
      "source": [
        "from google.colab import drive\n",
        "drive.mount('/content/drive')"
      ],
      "execution_count": null,
      "outputs": []
    },
    {
      "cell_type": "code",
      "metadata": {
        "id": "I5Z4BrDy0qE6"
      },
      "source": [
        "import os\n",
        "import shutil\n",
        "import random\n",
        "class_names = ['Plaque', 'Guttate', 'Inverse', 'Erythrodermic', 'Pustular', 'Nail', 'Psoriatic Arthritis']\n",
        "root_dir = '/content/drive/MyDrive/Research Group UT SUT UoA/Technical Calculations/Dataset_MultiClass'\n",
        "\n",
        "if os.path.isdir(os.path.join(root_dir, class_names[1])):\n",
        "  os.mkdir(os.path.join(root_dir, 'test'))\n",
        "for c in class_names:\n",
        "  os.mkdir(os.path.join(root_dir, 'test', c))\n",
        "# Sampling 20% of each class\n",
        "for c in class_names:\n",
        "    images = [x for x in os.listdir(os.path.join(root_dir, c)) if x.lower().endswith('png') or x.lower().endswith('jpg') or x.lower().endswith('jpeg')]\n",
        "    selected_images = random.sample(images, round(0.2*len(images)))\n",
        "    for image in selected_images:\n",
        "        source_path = os.path.join(root_dir, c, image)\n",
        "        target_path = os.path.join(root_dir, 'test', c, image)\n",
        "        shutil.move(source_path, target_path)"
      ],
      "execution_count": null,
      "outputs": []
    },
    {
      "cell_type": "code",
      "metadata": {
        "id": "5Ux_5bXB0yOj"
      },
      "source": [
        "os.mkdir(os.path.join(root_dir, 'train'))\n",
        "for c in class_names:\n",
        "  os.mkdir(os.path.join(root_dir, 'train', c))\n",
        "\n",
        "for c in class_names:\n",
        "    images = [x for x in os.listdir(os.path.join(root_dir, c)) if x.lower().endswith('png') or x.lower().endswith('jpg') or x.lower().endswith('jpeg')]\n",
        "    for image in images:\n",
        "        source_path = os.path.join(root_dir, c, image)\n",
        "        target_path = os.path.join(root_dir, 'train', c, image)\n",
        "        shutil.move(source_path, target_path)"
      ],
      "execution_count": null,
      "outputs": []
    },
    {
      "cell_type": "code",
      "source": [
        "class_names = ['Non-Psoriasis', 'Psoriasis']\n",
        "root_dir = '/content/drive/MyDrive/Research Group UT SUT UoA/Technical Calculations/Dataset_Binary'\n",
        "\n",
        "if os.path.isdir(os.path.join(root_dir, class_names[1])):\n",
        "  os.mkdir(os.path.join(root_dir, 'test'))\n",
        "for c in class_names:\n",
        "  os.mkdir(os.path.join(root_dir, 'test', c))\n",
        "# Sampling 20% of each class\n",
        "for c in class_names:\n",
        "    images = [x for x in os.listdir(os.path.join(root_dir, c)) if x.lower().endswith('png') or x.lower().endswith('jpg') or x.lower().endswith('jpeg')]\n",
        "    selected_images = random.sample(images, round(0.2*len(images)))\n",
        "    for image in selected_images:\n",
        "        source_path = os.path.join(root_dir, c, image)\n",
        "        target_path = os.path.join(root_dir, 'test', c, image)\n",
        "        shutil.move(source_path, target_path)"
      ],
      "metadata": {
        "id": "BrEqeGsq-36A"
      },
      "execution_count": null,
      "outputs": []
    },
    {
      "cell_type": "code",
      "source": [
        "os.mkdir(os.path.join(root_dir, 'train'))\n",
        "for c in class_names:\n",
        "\n",
        "for c in class_names:\n",
        "    images = [x for x in os.listdir(os.path.join(root_dir, c)) if x.lower().endswith('png') or x.lower().endswith('jpg') or x.lower().endswith('jpeg')]\n",
        "    for image in images:\n",
        "        source_path = os.path.join(root_dir, c, image)\n",
        "        target_path = os.path.join(root_dir, 'train', c, image)\n",
        "        shutil.move(source_path, target_path)           "
      ],
      "metadata": {
        "id": "jZBngWsM-4RU"
      },
      "execution_count": null,
      "outputs": []
    }
  ]
}
